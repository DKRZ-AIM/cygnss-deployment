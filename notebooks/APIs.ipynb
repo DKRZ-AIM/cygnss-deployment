{
 "cells": [
  {
   "cell_type": "markdown",
   "id": "eff249df-c61b-4ef2-92c5-633043fc251e",
   "metadata": {},
   "source": [
    "# APIs\n",
    "\n",
    "Retrieve CyGNSS and ERA5 data using APIs"
   ]
  },
  {
   "cell_type": "code",
   "execution_count": 1,
   "id": "9ec648d4-29ba-4393-8280-8c2e11dbfac6",
   "metadata": {},
   "outputs": [],
   "source": [
    "import os"
   ]
  },
  {
   "cell_type": "markdown",
   "id": "1b4751f7-122e-436d-91e0-340e3b3c970d",
   "metadata": {
    "tags": []
   },
   "source": [
    "## CyGNSS\n",
    "\n",
    "Using the tools in https://github.com/nasa/podaacpy. Citation key: https://doi.org/10.5281/zenodo.1751972\n",
    "\n",
    "\n",
    "\n",
    "https://github.com/nasa/podaacpy/blob/main/examples/Using%20Podaacpy%20to%20retrieve%20CYGNSS%20Level%202%20Science%20Data.ipynb'\n",
    "\n",
    "\n",
    "This is the dataset we need to retrieve:\n",
    "\n",
    "https://podaac.jpl.nasa.gov/dataset/CYGNSS_L1_V3.0\n",
    "\n",
    "Old Shorthand: `PODAAC-CYGNS-L1X30`\n",
    "\n",
    "Newer processed version available: `CYGNSS_L1_V3.1`\n",
    "\n",
    "\n",
    "With files following the format\n",
    "\n",
    "> cyg01.ddmi.s20210108-000000-e20210108-235959.l1.power-brcs.a30.d31.nc\n"
   ]
  },
  {
   "cell_type": "markdown",
   "id": "7cf4acb6-ebcc-418e-87bd-a8e69df4ad10",
   "metadata": {},
   "source": [
    "### PODAAC\n",
    "\n",
    "> Outdated, use EarthCloud\n",
    "\n",
    "### EarthCloud\n",
    "\n",
    "https://github.com/podaac/data-subscriber\n",
    "\n",
    "Follow the directions in `podaac_access.py` to generate a `~/.netrc` with the login credentials."
   ]
  },
  {
   "cell_type": "code",
   "execution_count": 2,
   "id": "f137698d-55e4-4c97-a7f4-5b11ecadbf38",
   "metadata": {},
   "outputs": [],
   "source": [
    "import sys\n",
    "sys.path.append('/work/ka1176/caroline/gitlab/data-subscriber/subscriber')"
   ]
  },
  {
   "cell_type": "code",
   "execution_count": 3,
   "id": "a07fca15-bcf7-4924-a7ed-138f587398ca",
   "metadata": {},
   "outputs": [
    {
     "data": {
      "text/plain": [
       "['podaac_data_subscriber.py',\n",
       " '__init__.py',\n",
       " '__pycache__',\n",
       " 'podaac_data_downloader.py',\n",
       " 'downloads',\n",
       " 'downloads2',\n",
       " 'podaac_access.py']"
      ]
     },
     "execution_count": 3,
     "metadata": {},
     "output_type": "execute_result"
    }
   ],
   "source": [
    "os.chdir('/work/ka1176/caroline/gitlab/data-subscriber/subscriber/')\n",
    "os.listdir()"
   ]
  },
  {
   "cell_type": "markdown",
   "id": "75ae3d17-1c75-49c5-b1e3-a60bacb452d8",
   "metadata": {},
   "source": [
    "Example command to download data\n",
    "\n",
    "`python podaac_data_downloader.py  -c CYGNSS_L1_V3.1 -d ./downloads --start-date 2021-01-14T00:00:00Z --end-date 2021-01-15T01:00:00Z`\n",
    "\n",
    "It will automatically skip files that were already downloaded. Download times may vary, on an interactive node one full day of data took \n",
    "\n",
    "> Time to complete download: 8 min 30 s\n",
    "> File size: 7.8 GB"
   ]
  },
  {
   "cell_type": "code",
   "execution_count": 4,
   "id": "c8600034-4c8f-4d5e-b7f4-5b99a5b5e9c5",
   "metadata": {},
   "outputs": [
    {
     "name": "stdout",
     "output_type": "stream",
     "text": [
      "env: PYTHONPATH=/work/ka1176/caroline/gitlab/data-subscriber\n",
      "[2022-08-18 17:51:15,812] {podaac_data_downloader.py:242} INFO - Found 8 total files to download\n",
      "[2022-08-18 17:51:18,056] {podaac_data_downloader.py:267} INFO - 2022-08-18 17:51:18.056891 SKIPPED: https://archive.podaac.earthdata.nasa.gov/podaac-ops-cumulus-protected/CYGNSS_L1_V3.1/cyg07.ddmi.s20220506-000000-e20220506-235959.l1.power-brcs.a31.d32.nc\n",
      "[2022-08-18 17:51:19,978] {podaac_data_downloader.py:267} INFO - 2022-08-18 17:51:19.978169 SKIPPED: https://archive.podaac.earthdata.nasa.gov/podaac-ops-cumulus-protected/CYGNSS_L1_V3.1/cyg02.ddmi.s20220506-000000-e20220506-235959.l1.power-brcs.a31.d32.nc\n",
      "[2022-08-18 17:51:21,687] {podaac_data_downloader.py:267} INFO - 2022-08-18 17:51:21.687522 SKIPPED: https://archive.podaac.earthdata.nasa.gov/podaac-ops-cumulus-protected/CYGNSS_L1_V3.1/cyg06.ddmi.s20220506-000000-e20220506-235959.l1.power-brcs.a31.d32.nc\n",
      "[2022-08-18 17:51:23,400] {podaac_data_downloader.py:267} INFO - 2022-08-18 17:51:23.400704 SKIPPED: https://archive.podaac.earthdata.nasa.gov/podaac-ops-cumulus-protected/CYGNSS_L1_V3.1/cyg08.ddmi.s20220506-000000-e20220506-235959.l1.power-brcs.a31.d32.nc\n",
      "[2022-08-18 17:51:25,504] {podaac_data_downloader.py:267} INFO - 2022-08-18 17:51:25.504266 SKIPPED: https://archive.podaac.earthdata.nasa.gov/podaac-ops-cumulus-protected/CYGNSS_L1_V3.1/cyg04.ddmi.s20220506-000000-e20220506-235959.l1.power-brcs.a31.d32.nc\n",
      "[2022-08-18 17:51:27,594] {podaac_data_downloader.py:267} INFO - 2022-08-18 17:51:27.594112 SKIPPED: https://archive.podaac.earthdata.nasa.gov/podaac-ops-cumulus-protected/CYGNSS_L1_V3.1/cyg05.ddmi.s20220506-000000-e20220506-235959.l1.power-brcs.a31.d32.nc\n",
      "[2022-08-18 17:51:29,258] {podaac_data_downloader.py:267} INFO - 2022-08-18 17:51:29.258028 SKIPPED: https://archive.podaac.earthdata.nasa.gov/podaac-ops-cumulus-protected/CYGNSS_L1_V3.1/cyg01.ddmi.s20220506-000000-e20220506-235959.l1.power-brcs.a31.d32.nc\n",
      "[2022-08-18 17:51:31,357] {podaac_data_downloader.py:267} INFO - 2022-08-18 17:51:31.357360 SKIPPED: https://archive.podaac.earthdata.nasa.gov/podaac-ops-cumulus-protected/CYGNSS_L1_V3.1/cyg03.ddmi.s20220506-000000-e20220506-235959.l1.power-brcs.a31.d32.nc\n",
      "[2022-08-18 17:51:31,357] {podaac_data_downloader.py:284} INFO - Downloaded Files: 0\n",
      "[2022-08-18 17:51:31,357] {podaac_data_downloader.py:285} INFO - Failed Files:     0\n",
      "[2022-08-18 17:51:31,357] {podaac_data_downloader.py:286} INFO - Skipped Files:    8\n",
      "[2022-08-18 17:51:31,672] {podaac_access.py:118} INFO - CMR token successfully deleted\n",
      "[2022-08-18 17:51:31,672] {podaac_data_downloader.py:288} INFO - END\n",
      "\n",
      "\n",
      "7.8G\t./downloads2\n",
      "17.285822868347168\n"
     ]
    }
   ],
   "source": [
    "import time\n",
    "t0 = time.time()\n",
    "\n",
    "%env PYTHONPATH=/work/ka1176/caroline/gitlab/data-subscriber\n",
    "!python podaac_data_downloader.py  -c CYGNSS_L1_V3.1 -d ./downloads2 --start-date 2022-05-06T00:00:00Z --end-date 2022-05-07T00:00:00Z\n",
    "\n",
    "!du -h ./downloads2\n",
    "t1 = time.time()\n",
    "print(t1-t0)"
   ]
  },
  {
   "cell_type": "markdown",
   "id": "2eb54dc9-4ec0-4864-b7f5-0d0bf2005423",
   "metadata": {},
   "source": [
    "Example command to subscribe to data\n",
    "\n",
    "`python podaac_data_subscriber.py  -c CYGNSS_L1_V3.1 -d ./downloads --minutes 460`"
   ]
  },
  {
   "cell_type": "code",
   "execution_count": 5,
   "id": "c59d5c7f-e320-4248-8038-61794e0ce68d",
   "metadata": {},
   "outputs": [
    {
     "name": "stdout",
     "output_type": "stream",
     "text": [
      "env: PYTHONPATH=/work/ka1176/caroline/gitlab/data-subscriber\n",
      "[2022-08-18 17:51:32,579] {podaac_data_subscriber.py:174} INFO - NOTE: Update found in the data directory. (The last run was at 2022-08-18T14:57:59Z.)\n",
      "[2022-08-18 17:51:33,105] {podaac_data_subscriber.py:270} INFO - Found 2 total files to download\n",
      "[2022-08-18 17:52:30,905] {podaac_data_subscriber.py:299} INFO - 2022-08-18 17:52:30.905603 SUCCESS: https://archive.podaac.earthdata.nasa.gov/podaac-ops-cumulus-protected/CYGNSS_L1_V3.1/cyg08.ddmi.s20220816-000000-e20220816-235959.l1.power-brcs.a31.d32.nc\n",
      "[2022-08-18 17:53:15,932] {podaac_data_subscriber.py:299} INFO - 2022-08-18 17:53:15.932443 SUCCESS: https://archive.podaac.earthdata.nasa.gov/podaac-ops-cumulus-protected/CYGNSS_L1_V3.1/cyg05.ddmi.s20220816-000000-e20220816-235959.l1.power-brcs.a31.d32.nc\n",
      "[2022-08-18 17:53:15,934] {podaac_data_subscriber.py:314} INFO - Downloaded Files: 2\n",
      "[2022-08-18 17:53:15,934] {podaac_data_subscriber.py:315} INFO - Failed Files:     0\n",
      "[2022-08-18 17:53:15,934] {podaac_data_subscriber.py:316} INFO - Skipped Files:    0\n",
      "[2022-08-18 17:53:16,186] {podaac_access.py:118} INFO - CMR token successfully deleted\n",
      "[2022-08-18 17:53:16,186] {podaac_data_subscriber.py:318} INFO - END\n",
      "\n",
      "\n"
     ]
    }
   ],
   "source": [
    "%env PYTHONPATH=/work/ka1176/caroline/gitlab/data-subscriber\n",
    "!python podaac_data_subscriber.py  -c CYGNSS_L1_V3.1 -d ./downloads --minutes 3600"
   ]
  },
  {
   "cell_type": "markdown",
   "id": "2fd3aead-e3f7-4914-9bd7-5cb5408db062",
   "metadata": {},
   "source": [
    "## ERA5\n",
    "\n",
    "https://github.com/ecmwf/cdsapi"
   ]
  },
  {
   "cell_type": "code",
   "execution_count": 6,
   "id": "51965c33-4105-4f99-96ca-d61846907fa6",
   "metadata": {},
   "outputs": [
    {
     "name": "stdout",
     "output_type": "stream",
     "text": [
      "url: https://cds.climate.copernicus.eu/api/v2\n",
      "key: 149613:37ca75c8-6d1f-476a-a97f-45dbd797bfeb\n",
      "verify: 0\n"
     ]
    }
   ],
   "source": [
    "!cat ~/.cdsapirc"
   ]
  },
  {
   "cell_type": "code",
   "execution_count": 7,
   "id": "03f25036-2e1f-42b0-a5bf-097e0bfe4932",
   "metadata": {},
   "outputs": [],
   "source": [
    "import cdsapi\n",
    "import xarray as xr\n",
    "import numpy as np\n",
    "\n",
    "import seaborn as sns\n",
    "from matplotlib import pyplot as plt\n",
    "\n",
    "from global_land_mask import globe\n",
    "\n",
    "import pandas as pd"
   ]
  },
  {
   "cell_type": "code",
   "execution_count": 8,
   "id": "2cda2393-4db0-4eec-946d-7fc22ee8507c",
   "metadata": {},
   "outputs": [],
   "source": [
    "%matplotlib inline"
   ]
  },
  {
   "cell_type": "code",
   "execution_count": 9,
   "id": "7710bc48-1e9c-41fa-8015-a0cc027aaa47",
   "metadata": {},
   "outputs": [],
   "source": [
    "cds = cdsapi.Client()"
   ]
  },
  {
   "cell_type": "markdown",
   "id": "c95f61a9-5ae6-4b75-b841-9a357f6f7fc9",
   "metadata": {},
   "source": [
    "Use the website to generate templates for API requests"
   ]
  },
  {
   "cell_type": "code",
   "execution_count": 10,
   "id": "c6eeb7ce-ab34-41dd-9460-f85de7651549",
   "metadata": {},
   "outputs": [
    {
     "name": "stderr",
     "output_type": "stream",
     "text": [
      "/home/k/k202141/.conda/envs/iconml/lib/python3.9/site-packages/urllib3/connectionpool.py:1043: InsecureRequestWarning: Unverified HTTPS request is being made to host 'cds.climate.copernicus.eu'. Adding certificate verification is strongly advised. See: https://urllib3.readthedocs.io/en/1.26.x/advanced-usage.html#ssl-warnings\n",
      "  warnings.warn(\n",
      "2022-08-18 17:53:22,526 INFO Welcome to the CDS\n",
      "2022-08-18 17:53:22,526 INFO Sending request to https://cds.climate.copernicus.eu/api/v2/resources/reanalysis-era5-single-levels\n",
      "/home/k/k202141/.conda/envs/iconml/lib/python3.9/site-packages/urllib3/connectionpool.py:1043: InsecureRequestWarning: Unverified HTTPS request is being made to host 'cds.climate.copernicus.eu'. Adding certificate verification is strongly advised. See: https://urllib3.readthedocs.io/en/1.26.x/advanced-usage.html#ssl-warnings\n",
      "  warnings.warn(\n",
      "2022-08-18 17:53:22,696 INFO Request is completed\n",
      "2022-08-18 17:53:22,696 INFO Downloading https://download-0014-clone.copernicus-climate.eu/cache-compute-0014/cache/data1/adaptor.mars.internal-1660728709.359887-11860-2-6b5771cc-8a22-4160-ae6b-8b988de2a294.nc to download.nc (42.3M)\n",
      "/home/k/k202141/.conda/envs/iconml/lib/python3.9/site-packages/urllib3/connectionpool.py:1043: InsecureRequestWarning: Unverified HTTPS request is being made to host 'download-0014-clone.copernicus-climate.eu'. Adding certificate verification is strongly advised. See: https://urllib3.readthedocs.io/en/1.26.x/advanced-usage.html#ssl-warnings\n",
      "  warnings.warn(\n",
      "2022-08-18 17:53:24,194 INFO Download rate 28.3M/s  \n"
     ]
    },
    {
     "data": {
      "text/plain": [
       "Result(content_length=44383516,content_type=application/x-netcdf,location=https://download-0014-clone.copernicus-climate.eu/cache-compute-0014/cache/data1/adaptor.mars.internal-1660728709.359887-11860-2-6b5771cc-8a22-4160-ae6b-8b988de2a294.nc)"
      ]
     },
     "execution_count": 10,
     "metadata": {},
     "output_type": "execute_result"
    }
   ],
   "source": [
    "cds.retrieve(\n",
    "    'reanalysis-era5-single-levels',\n",
    "    {\n",
    "        'product_type': 'reanalysis',\n",
    "        'format': 'netcdf',\n",
    "        'variable': [\n",
    "            '10m_u_component_of_wind', '10m_v_component_of_wind',\n",
    "        ],\n",
    "        'year': '2022',\n",
    "        'month': '08',\n",
    "        'day': '02',\n",
    "        'time': [\n",
    "            '00:00', '01:00', '02:00',\n",
    "            '03:00', '04:00', '05:00',\n",
    "            '06:00', '07:00', '08:00',\n",
    "            '09:00', '10:00', '11:00',\n",
    "            '12:00', '13:00', '14:00',\n",
    "            '15:00', '16:00', '17:00',\n",
    "            '18:00', '19:00', '20:00',\n",
    "            '21:00', '22:00', '23:00'\n",
    "        ],\n",
    "        'area': [\n",
    "            40, -180, -40, 180,\n",
    "        ],\n",
    "    },\n",
    "    'download.nc')"
   ]
  },
  {
   "cell_type": "code",
   "execution_count": 11,
   "id": "34f862c9-cf87-49f6-8c7c-f26626e3ac4e",
   "metadata": {},
   "outputs": [],
   "source": [
    "ds_era5 = xr.open_dataset('download.nc')\n",
    "ds_era5.close()"
   ]
  },
  {
   "cell_type": "markdown",
   "id": "3720c4df-dddc-4d5d-ad79-e8735a5c57ea",
   "metadata": {},
   "source": [
    "Calculate the 10m windspeed labels as $y_\\mathrm{true} = \\sqrt{ u_\\mathrm{10m}^2 + v_\\mathrm{10m}^2 }$ using `xarray` lazy computation"
   ]
  },
  {
   "cell_type": "code",
   "execution_count": 12,
   "id": "0ccc6d10-6580-4bcc-8239-09bba82dd462",
   "metadata": {},
   "outputs": [],
   "source": [
    "ds_era5['ERA5_windspeed'] = np.sqrt( ds_era5['u10'] * ds_era5['u10'] + ds_era5['v10'] * ds_era5['v10'] )"
   ]
  },
  {
   "cell_type": "markdown",
   "id": "955972c2-3841-48ed-9503-eb397effe427",
   "metadata": {},
   "source": [
    "Use the global land mask to filter for observations over the oceans"
   ]
  },
  {
   "cell_type": "code",
   "execution_count": 13,
   "id": "4770efb7-c6f2-481c-b9fb-8464315531f1",
   "metadata": {},
   "outputs": [
    {
     "name": "stdout",
     "output_type": "stream",
     "text": [
      "Total number of grid points: 462240\n"
     ]
    }
   ],
   "source": [
    "lats = ds_era5['latitude'].values\n",
    "lons = ds_era5['longitude'].values\n",
    "\n",
    "times = ds_era5['time'].values\n",
    "\n",
    "print('Total number of grid points:', len(lons) * len(lats))"
   ]
  },
  {
   "cell_type": "code",
   "execution_count": 14,
   "id": "95e07487-18d0-45f9-a9f5-6638a6eb1cd4",
   "metadata": {},
   "outputs": [
    {
     "name": "stdout",
     "output_type": "stream",
     "text": [
      "462240\n"
     ]
    }
   ],
   "source": [
    "mesh_lats, mesh_lons = np.meshgrid(lats, lons)\n",
    "\n",
    "print(len(mesh_lats.flatten()))"
   ]
  },
  {
   "cell_type": "code",
   "execution_count": 15,
   "id": "0791df2a-61b8-4002-ab71-ec72ca3f0ede",
   "metadata": {},
   "outputs": [
    {
     "name": "stdout",
     "output_type": "stream",
     "text": [
      "Fraction of ocean grid points: 0.7372966424368294\n"
     ]
    }
   ],
   "source": [
    "globe_ocean_mask = globe.is_ocean(mesh_lats, mesh_lons)\n",
    "globe_land_mask = ~globe_ocean_mask\n",
    "\n",
    "print('Fraction of ocean grid points:', globe_ocean_mask.sum() / len(globe_ocean_mask.flatten()))"
   ]
  },
  {
   "cell_type": "code",
   "execution_count": 16,
   "id": "be497a6d-7c38-4b25-99a9-a59ae30b24db",
   "metadata": {},
   "outputs": [
    {
     "data": {
      "text/html": [
       "<div><svg style=\"position: absolute; width: 0; height: 0; overflow: hidden\">\n",
       "<defs>\n",
       "<symbol id=\"icon-database\" viewBox=\"0 0 32 32\">\n",
       "<path d=\"M16 0c-8.837 0-16 2.239-16 5v4c0 2.761 7.163 5 16 5s16-2.239 16-5v-4c0-2.761-7.163-5-16-5z\"></path>\n",
       "<path d=\"M16 17c-8.837 0-16-2.239-16-5v6c0 2.761 7.163 5 16 5s16-2.239 16-5v-6c0 2.761-7.163 5-16 5z\"></path>\n",
       "<path d=\"M16 26c-8.837 0-16-2.239-16-5v6c0 2.761 7.163 5 16 5s16-2.239 16-5v-6c0 2.761-7.163 5-16 5z\"></path>\n",
       "</symbol>\n",
       "<symbol id=\"icon-file-text2\" viewBox=\"0 0 32 32\">\n",
       "<path d=\"M28.681 7.159c-0.694-0.947-1.662-2.053-2.724-3.116s-2.169-2.030-3.116-2.724c-1.612-1.182-2.393-1.319-2.841-1.319h-15.5c-1.378 0-2.5 1.121-2.5 2.5v27c0 1.378 1.122 2.5 2.5 2.5h23c1.378 0 2.5-1.122 2.5-2.5v-19.5c0-0.448-0.137-1.23-1.319-2.841zM24.543 5.457c0.959 0.959 1.712 1.825 2.268 2.543h-4.811v-4.811c0.718 0.556 1.584 1.309 2.543 2.268zM28 29.5c0 0.271-0.229 0.5-0.5 0.5h-23c-0.271 0-0.5-0.229-0.5-0.5v-27c0-0.271 0.229-0.5 0.5-0.5 0 0 15.499-0 15.5 0v7c0 0.552 0.448 1 1 1h7v19.5z\"></path>\n",
       "<path d=\"M23 26h-14c-0.552 0-1-0.448-1-1s0.448-1 1-1h14c0.552 0 1 0.448 1 1s-0.448 1-1 1z\"></path>\n",
       "<path d=\"M23 22h-14c-0.552 0-1-0.448-1-1s0.448-1 1-1h14c0.552 0 1 0.448 1 1s-0.448 1-1 1z\"></path>\n",
       "<path d=\"M23 18h-14c-0.552 0-1-0.448-1-1s0.448-1 1-1h14c0.552 0 1 0.448 1 1s-0.448 1-1 1z\"></path>\n",
       "</symbol>\n",
       "</defs>\n",
       "</svg>\n",
       "<style>/* CSS stylesheet for displaying xarray objects in jupyterlab.\n",
       " *\n",
       " */\n",
       "\n",
       ":root {\n",
       "  --xr-font-color0: var(--jp-content-font-color0, rgba(0, 0, 0, 1));\n",
       "  --xr-font-color2: var(--jp-content-font-color2, rgba(0, 0, 0, 0.54));\n",
       "  --xr-font-color3: var(--jp-content-font-color3, rgba(0, 0, 0, 0.38));\n",
       "  --xr-border-color: var(--jp-border-color2, #e0e0e0);\n",
       "  --xr-disabled-color: var(--jp-layout-color3, #bdbdbd);\n",
       "  --xr-background-color: var(--jp-layout-color0, white);\n",
       "  --xr-background-color-row-even: var(--jp-layout-color1, white);\n",
       "  --xr-background-color-row-odd: var(--jp-layout-color2, #eeeeee);\n",
       "}\n",
       "\n",
       "html[theme=dark],\n",
       "body.vscode-dark {\n",
       "  --xr-font-color0: rgba(255, 255, 255, 1);\n",
       "  --xr-font-color2: rgba(255, 255, 255, 0.54);\n",
       "  --xr-font-color3: rgba(255, 255, 255, 0.38);\n",
       "  --xr-border-color: #1F1F1F;\n",
       "  --xr-disabled-color: #515151;\n",
       "  --xr-background-color: #111111;\n",
       "  --xr-background-color-row-even: #111111;\n",
       "  --xr-background-color-row-odd: #313131;\n",
       "}\n",
       "\n",
       ".xr-wrap {\n",
       "  display: block;\n",
       "  min-width: 300px;\n",
       "  max-width: 700px;\n",
       "}\n",
       "\n",
       ".xr-text-repr-fallback {\n",
       "  /* fallback to plain text repr when CSS is not injected (untrusted notebook) */\n",
       "  display: none;\n",
       "}\n",
       "\n",
       ".xr-header {\n",
       "  padding-top: 6px;\n",
       "  padding-bottom: 6px;\n",
       "  margin-bottom: 4px;\n",
       "  border-bottom: solid 1px var(--xr-border-color);\n",
       "}\n",
       "\n",
       ".xr-header > div,\n",
       ".xr-header > ul {\n",
       "  display: inline;\n",
       "  margin-top: 0;\n",
       "  margin-bottom: 0;\n",
       "}\n",
       "\n",
       ".xr-obj-type,\n",
       ".xr-array-name {\n",
       "  margin-left: 2px;\n",
       "  margin-right: 10px;\n",
       "}\n",
       "\n",
       ".xr-obj-type {\n",
       "  color: var(--xr-font-color2);\n",
       "}\n",
       "\n",
       ".xr-sections {\n",
       "  padding-left: 0 !important;\n",
       "  display: grid;\n",
       "  grid-template-columns: 150px auto auto 1fr 20px 20px;\n",
       "}\n",
       "\n",
       ".xr-section-item {\n",
       "  display: contents;\n",
       "}\n",
       "\n",
       ".xr-section-item input {\n",
       "  display: none;\n",
       "}\n",
       "\n",
       ".xr-section-item input + label {\n",
       "  color: var(--xr-disabled-color);\n",
       "}\n",
       "\n",
       ".xr-section-item input:enabled + label {\n",
       "  cursor: pointer;\n",
       "  color: var(--xr-font-color2);\n",
       "}\n",
       "\n",
       ".xr-section-item input:enabled + label:hover {\n",
       "  color: var(--xr-font-color0);\n",
       "}\n",
       "\n",
       ".xr-section-summary {\n",
       "  grid-column: 1;\n",
       "  color: var(--xr-font-color2);\n",
       "  font-weight: 500;\n",
       "}\n",
       "\n",
       ".xr-section-summary > span {\n",
       "  display: inline-block;\n",
       "  padding-left: 0.5em;\n",
       "}\n",
       "\n",
       ".xr-section-summary-in:disabled + label {\n",
       "  color: var(--xr-font-color2);\n",
       "}\n",
       "\n",
       ".xr-section-summary-in + label:before {\n",
       "  display: inline-block;\n",
       "  content: '►';\n",
       "  font-size: 11px;\n",
       "  width: 15px;\n",
       "  text-align: center;\n",
       "}\n",
       "\n",
       ".xr-section-summary-in:disabled + label:before {\n",
       "  color: var(--xr-disabled-color);\n",
       "}\n",
       "\n",
       ".xr-section-summary-in:checked + label:before {\n",
       "  content: '▼';\n",
       "}\n",
       "\n",
       ".xr-section-summary-in:checked + label > span {\n",
       "  display: none;\n",
       "}\n",
       "\n",
       ".xr-section-summary,\n",
       ".xr-section-inline-details {\n",
       "  padding-top: 4px;\n",
       "  padding-bottom: 4px;\n",
       "}\n",
       "\n",
       ".xr-section-inline-details {\n",
       "  grid-column: 2 / -1;\n",
       "}\n",
       "\n",
       ".xr-section-details {\n",
       "  display: none;\n",
       "  grid-column: 1 / -1;\n",
       "  margin-bottom: 5px;\n",
       "}\n",
       "\n",
       ".xr-section-summary-in:checked ~ .xr-section-details {\n",
       "  display: contents;\n",
       "}\n",
       "\n",
       ".xr-array-wrap {\n",
       "  grid-column: 1 / -1;\n",
       "  display: grid;\n",
       "  grid-template-columns: 20px auto;\n",
       "}\n",
       "\n",
       ".xr-array-wrap > label {\n",
       "  grid-column: 1;\n",
       "  vertical-align: top;\n",
       "}\n",
       "\n",
       ".xr-preview {\n",
       "  color: var(--xr-font-color3);\n",
       "}\n",
       "\n",
       ".xr-array-preview,\n",
       ".xr-array-data {\n",
       "  padding: 0 5px !important;\n",
       "  grid-column: 2;\n",
       "}\n",
       "\n",
       ".xr-array-data,\n",
       ".xr-array-in:checked ~ .xr-array-preview {\n",
       "  display: none;\n",
       "}\n",
       "\n",
       ".xr-array-in:checked ~ .xr-array-data,\n",
       ".xr-array-preview {\n",
       "  display: inline-block;\n",
       "}\n",
       "\n",
       ".xr-dim-list {\n",
       "  display: inline-block !important;\n",
       "  list-style: none;\n",
       "  padding: 0 !important;\n",
       "  margin: 0;\n",
       "}\n",
       "\n",
       ".xr-dim-list li {\n",
       "  display: inline-block;\n",
       "  padding: 0;\n",
       "  margin: 0;\n",
       "}\n",
       "\n",
       ".xr-dim-list:before {\n",
       "  content: '(';\n",
       "}\n",
       "\n",
       ".xr-dim-list:after {\n",
       "  content: ')';\n",
       "}\n",
       "\n",
       ".xr-dim-list li:not(:last-child):after {\n",
       "  content: ',';\n",
       "  padding-right: 5px;\n",
       "}\n",
       "\n",
       ".xr-has-index {\n",
       "  font-weight: bold;\n",
       "}\n",
       "\n",
       ".xr-var-list,\n",
       ".xr-var-item {\n",
       "  display: contents;\n",
       "}\n",
       "\n",
       ".xr-var-item > div,\n",
       ".xr-var-item label,\n",
       ".xr-var-item > .xr-var-name span {\n",
       "  background-color: var(--xr-background-color-row-even);\n",
       "  margin-bottom: 0;\n",
       "}\n",
       "\n",
       ".xr-var-item > .xr-var-name:hover span {\n",
       "  padding-right: 5px;\n",
       "}\n",
       "\n",
       ".xr-var-list > li:nth-child(odd) > div,\n",
       ".xr-var-list > li:nth-child(odd) > label,\n",
       ".xr-var-list > li:nth-child(odd) > .xr-var-name span {\n",
       "  background-color: var(--xr-background-color-row-odd);\n",
       "}\n",
       "\n",
       ".xr-var-name {\n",
       "  grid-column: 1;\n",
       "}\n",
       "\n",
       ".xr-var-dims {\n",
       "  grid-column: 2;\n",
       "}\n",
       "\n",
       ".xr-var-dtype {\n",
       "  grid-column: 3;\n",
       "  text-align: right;\n",
       "  color: var(--xr-font-color2);\n",
       "}\n",
       "\n",
       ".xr-var-preview {\n",
       "  grid-column: 4;\n",
       "}\n",
       "\n",
       ".xr-var-name,\n",
       ".xr-var-dims,\n",
       ".xr-var-dtype,\n",
       ".xr-preview,\n",
       ".xr-attrs dt {\n",
       "  white-space: nowrap;\n",
       "  overflow: hidden;\n",
       "  text-overflow: ellipsis;\n",
       "  padding-right: 10px;\n",
       "}\n",
       "\n",
       ".xr-var-name:hover,\n",
       ".xr-var-dims:hover,\n",
       ".xr-var-dtype:hover,\n",
       ".xr-attrs dt:hover {\n",
       "  overflow: visible;\n",
       "  width: auto;\n",
       "  z-index: 1;\n",
       "}\n",
       "\n",
       ".xr-var-attrs,\n",
       ".xr-var-data {\n",
       "  display: none;\n",
       "  background-color: var(--xr-background-color) !important;\n",
       "  padding-bottom: 5px !important;\n",
       "}\n",
       "\n",
       ".xr-var-attrs-in:checked ~ .xr-var-attrs,\n",
       ".xr-var-data-in:checked ~ .xr-var-data {\n",
       "  display: block;\n",
       "}\n",
       "\n",
       ".xr-var-data > table {\n",
       "  float: right;\n",
       "}\n",
       "\n",
       ".xr-var-name span,\n",
       ".xr-var-data,\n",
       ".xr-attrs {\n",
       "  padding-left: 25px !important;\n",
       "}\n",
       "\n",
       ".xr-attrs,\n",
       ".xr-var-attrs,\n",
       ".xr-var-data {\n",
       "  grid-column: 1 / -1;\n",
       "}\n",
       "\n",
       "dl.xr-attrs {\n",
       "  padding: 0;\n",
       "  margin: 0;\n",
       "  display: grid;\n",
       "  grid-template-columns: 125px auto;\n",
       "}\n",
       "\n",
       ".xr-attrs dt,\n",
       ".xr-attrs dd {\n",
       "  padding: 0;\n",
       "  margin: 0;\n",
       "  float: left;\n",
       "  padding-right: 10px;\n",
       "  width: auto;\n",
       "}\n",
       "\n",
       ".xr-attrs dt {\n",
       "  font-weight: normal;\n",
       "  grid-column: 1;\n",
       "}\n",
       "\n",
       ".xr-attrs dt:hover span {\n",
       "  display: inline-block;\n",
       "  background: var(--xr-background-color);\n",
       "  padding-right: 10px;\n",
       "}\n",
       "\n",
       ".xr-attrs dd {\n",
       "  grid-column: 2;\n",
       "  white-space: pre-wrap;\n",
       "  word-break: break-all;\n",
       "}\n",
       "\n",
       ".xr-icon-database,\n",
       ".xr-icon-file-text2 {\n",
       "  display: inline-block;\n",
       "  vertical-align: middle;\n",
       "  width: 1em;\n",
       "  height: 1.5em !important;\n",
       "  stroke-width: 0;\n",
       "  stroke: currentColor;\n",
       "  fill: currentColor;\n",
       "}\n",
       "</style><pre class='xr-text-repr-fallback'>&lt;xarray.Dataset&gt;\n",
       "Dimensions:         (longitude: 1440, latitude: 321, time: 24)\n",
       "Coordinates:\n",
       "  * longitude       (longitude) float32 -180.0 -179.8 -179.5 ... 179.5 179.8\n",
       "  * latitude        (latitude) float32 40.0 39.75 39.5 ... -39.5 -39.75 -40.0\n",
       "  * time            (time) datetime64[ns] 2022-08-02 ... 2022-08-02T23:00:00\n",
       "Data variables:\n",
       "    u10             (time, latitude, longitude) float32 ...\n",
       "    v10             (time, latitude, longitude) float32 ...\n",
       "    ERA5_windspeed  (time, latitude, longitude) float32 6.918 6.446 ... 10.23\n",
       "Attributes:\n",
       "    Conventions:  CF-1.6\n",
       "    history:      2022-08-17 09:31:49 GMT by grib_to_netcdf-2.25.1: /opt/ecmw...</pre><div class='xr-wrap' hidden><div class='xr-header'><div class='xr-obj-type'>xarray.Dataset</div></div><ul class='xr-sections'><li class='xr-section-item'><input id='section-59de38f9-50b3-44f8-af94-d32f6d68be68' class='xr-section-summary-in' type='checkbox' disabled ><label for='section-59de38f9-50b3-44f8-af94-d32f6d68be68' class='xr-section-summary'  title='Expand/collapse section'>Dimensions:</label><div class='xr-section-inline-details'><ul class='xr-dim-list'><li><span class='xr-has-index'>longitude</span>: 1440</li><li><span class='xr-has-index'>latitude</span>: 321</li><li><span class='xr-has-index'>time</span>: 24</li></ul></div><div class='xr-section-details'></div></li><li class='xr-section-item'><input id='section-731678d9-c481-4944-96e2-8d40984bb930' class='xr-section-summary-in' type='checkbox'  checked><label for='section-731678d9-c481-4944-96e2-8d40984bb930' class='xr-section-summary' >Coordinates: <span>(3)</span></label><div class='xr-section-inline-details'></div><div class='xr-section-details'><ul class='xr-var-list'><li class='xr-var-item'><div class='xr-var-name'><span class='xr-has-index'>longitude</span></div><div class='xr-var-dims'>(longitude)</div><div class='xr-var-dtype'>float32</div><div class='xr-var-preview xr-preview'>-180.0 -179.8 ... 179.5 179.8</div><input id='attrs-f9d6828e-3097-4004-b816-563f67388ce3' class='xr-var-attrs-in' type='checkbox' ><label for='attrs-f9d6828e-3097-4004-b816-563f67388ce3' title='Show/Hide attributes'><svg class='icon xr-icon-file-text2'><use xlink:href='#icon-file-text2'></use></svg></label><input id='data-702521dd-73dc-436e-90bd-fb5d40c0ad19' class='xr-var-data-in' type='checkbox'><label for='data-702521dd-73dc-436e-90bd-fb5d40c0ad19' title='Show/Hide data repr'><svg class='icon xr-icon-database'><use xlink:href='#icon-database'></use></svg></label><div class='xr-var-attrs'><dl class='xr-attrs'><dt><span>units :</span></dt><dd>degrees_east</dd><dt><span>long_name :</span></dt><dd>longitude</dd></dl></div><div class='xr-var-data'><pre>array([-180.  , -179.75, -179.5 , ...,  179.25,  179.5 ,  179.75],\n",
       "      dtype=float32)</pre></div></li><li class='xr-var-item'><div class='xr-var-name'><span class='xr-has-index'>latitude</span></div><div class='xr-var-dims'>(latitude)</div><div class='xr-var-dtype'>float32</div><div class='xr-var-preview xr-preview'>40.0 39.75 39.5 ... -39.75 -40.0</div><input id='attrs-03fcf223-35e2-4267-a7d3-840162e78538' class='xr-var-attrs-in' type='checkbox' ><label for='attrs-03fcf223-35e2-4267-a7d3-840162e78538' title='Show/Hide attributes'><svg class='icon xr-icon-file-text2'><use xlink:href='#icon-file-text2'></use></svg></label><input id='data-d8ea44aa-18a3-46d2-8adc-ada394143ad6' class='xr-var-data-in' type='checkbox'><label for='data-d8ea44aa-18a3-46d2-8adc-ada394143ad6' title='Show/Hide data repr'><svg class='icon xr-icon-database'><use xlink:href='#icon-database'></use></svg></label><div class='xr-var-attrs'><dl class='xr-attrs'><dt><span>units :</span></dt><dd>degrees_north</dd><dt><span>long_name :</span></dt><dd>latitude</dd></dl></div><div class='xr-var-data'><pre>array([ 40.  ,  39.75,  39.5 , ..., -39.5 , -39.75, -40.  ], dtype=float32)</pre></div></li><li class='xr-var-item'><div class='xr-var-name'><span class='xr-has-index'>time</span></div><div class='xr-var-dims'>(time)</div><div class='xr-var-dtype'>datetime64[ns]</div><div class='xr-var-preview xr-preview'>2022-08-02 ... 2022-08-02T23:00:00</div><input id='attrs-48dc9ac9-e422-4893-97d6-4346ce49df7c' class='xr-var-attrs-in' type='checkbox' ><label for='attrs-48dc9ac9-e422-4893-97d6-4346ce49df7c' title='Show/Hide attributes'><svg class='icon xr-icon-file-text2'><use xlink:href='#icon-file-text2'></use></svg></label><input id='data-8033fc3b-8216-4347-bb5f-71fc257658a6' class='xr-var-data-in' type='checkbox'><label for='data-8033fc3b-8216-4347-bb5f-71fc257658a6' title='Show/Hide data repr'><svg class='icon xr-icon-database'><use xlink:href='#icon-database'></use></svg></label><div class='xr-var-attrs'><dl class='xr-attrs'><dt><span>long_name :</span></dt><dd>time</dd></dl></div><div class='xr-var-data'><pre>array([&#x27;2022-08-02T00:00:00.000000000&#x27;, &#x27;2022-08-02T01:00:00.000000000&#x27;,\n",
       "       &#x27;2022-08-02T02:00:00.000000000&#x27;, &#x27;2022-08-02T03:00:00.000000000&#x27;,\n",
       "       &#x27;2022-08-02T04:00:00.000000000&#x27;, &#x27;2022-08-02T05:00:00.000000000&#x27;,\n",
       "       &#x27;2022-08-02T06:00:00.000000000&#x27;, &#x27;2022-08-02T07:00:00.000000000&#x27;,\n",
       "       &#x27;2022-08-02T08:00:00.000000000&#x27;, &#x27;2022-08-02T09:00:00.000000000&#x27;,\n",
       "       &#x27;2022-08-02T10:00:00.000000000&#x27;, &#x27;2022-08-02T11:00:00.000000000&#x27;,\n",
       "       &#x27;2022-08-02T12:00:00.000000000&#x27;, &#x27;2022-08-02T13:00:00.000000000&#x27;,\n",
       "       &#x27;2022-08-02T14:00:00.000000000&#x27;, &#x27;2022-08-02T15:00:00.000000000&#x27;,\n",
       "       &#x27;2022-08-02T16:00:00.000000000&#x27;, &#x27;2022-08-02T17:00:00.000000000&#x27;,\n",
       "       &#x27;2022-08-02T18:00:00.000000000&#x27;, &#x27;2022-08-02T19:00:00.000000000&#x27;,\n",
       "       &#x27;2022-08-02T20:00:00.000000000&#x27;, &#x27;2022-08-02T21:00:00.000000000&#x27;,\n",
       "       &#x27;2022-08-02T22:00:00.000000000&#x27;, &#x27;2022-08-02T23:00:00.000000000&#x27;],\n",
       "      dtype=&#x27;datetime64[ns]&#x27;)</pre></div></li></ul></div></li><li class='xr-section-item'><input id='section-33c8bc8b-b178-4d73-865f-306ce987b567' class='xr-section-summary-in' type='checkbox'  checked><label for='section-33c8bc8b-b178-4d73-865f-306ce987b567' class='xr-section-summary' >Data variables: <span>(3)</span></label><div class='xr-section-inline-details'></div><div class='xr-section-details'><ul class='xr-var-list'><li class='xr-var-item'><div class='xr-var-name'><span>u10</span></div><div class='xr-var-dims'>(time, latitude, longitude)</div><div class='xr-var-dtype'>float32</div><div class='xr-var-preview xr-preview'>...</div><input id='attrs-c9e14ef3-58f6-45d0-a58a-2669f7f7a1f8' class='xr-var-attrs-in' type='checkbox' ><label for='attrs-c9e14ef3-58f6-45d0-a58a-2669f7f7a1f8' title='Show/Hide attributes'><svg class='icon xr-icon-file-text2'><use xlink:href='#icon-file-text2'></use></svg></label><input id='data-ece3babc-26aa-46c5-9142-e6f7cdb795de' class='xr-var-data-in' type='checkbox'><label for='data-ece3babc-26aa-46c5-9142-e6f7cdb795de' title='Show/Hide data repr'><svg class='icon xr-icon-database'><use xlink:href='#icon-database'></use></svg></label><div class='xr-var-attrs'><dl class='xr-attrs'><dt><span>units :</span></dt><dd>m s**-1</dd><dt><span>long_name :</span></dt><dd>10 metre U wind component</dd></dl></div><div class='xr-var-data'><pre>[11093760 values with dtype=float32]</pre></div></li><li class='xr-var-item'><div class='xr-var-name'><span>v10</span></div><div class='xr-var-dims'>(time, latitude, longitude)</div><div class='xr-var-dtype'>float32</div><div class='xr-var-preview xr-preview'>...</div><input id='attrs-9af48896-8ece-4765-8fdc-9d4603ebec22' class='xr-var-attrs-in' type='checkbox' ><label for='attrs-9af48896-8ece-4765-8fdc-9d4603ebec22' title='Show/Hide attributes'><svg class='icon xr-icon-file-text2'><use xlink:href='#icon-file-text2'></use></svg></label><input id='data-bfca389a-8846-4135-a6a3-b9732870ff43' class='xr-var-data-in' type='checkbox'><label for='data-bfca389a-8846-4135-a6a3-b9732870ff43' title='Show/Hide data repr'><svg class='icon xr-icon-database'><use xlink:href='#icon-database'></use></svg></label><div class='xr-var-attrs'><dl class='xr-attrs'><dt><span>units :</span></dt><dd>m s**-1</dd><dt><span>long_name :</span></dt><dd>10 metre V wind component</dd></dl></div><div class='xr-var-data'><pre>[11093760 values with dtype=float32]</pre></div></li><li class='xr-var-item'><div class='xr-var-name'><span>ERA5_windspeed</span></div><div class='xr-var-dims'>(time, latitude, longitude)</div><div class='xr-var-dtype'>float32</div><div class='xr-var-preview xr-preview'>6.918 6.446 6.059 ... 9.891 10.23</div><input id='attrs-6edb3ed0-1908-4834-ac75-7b9da9182424' class='xr-var-attrs-in' type='checkbox' disabled><label for='attrs-6edb3ed0-1908-4834-ac75-7b9da9182424' title='Show/Hide attributes'><svg class='icon xr-icon-file-text2'><use xlink:href='#icon-file-text2'></use></svg></label><input id='data-a592025c-ebfa-4c46-abd4-14e2966e96b6' class='xr-var-data-in' type='checkbox'><label for='data-a592025c-ebfa-4c46-abd4-14e2966e96b6' title='Show/Hide data repr'><svg class='icon xr-icon-database'><use xlink:href='#icon-database'></use></svg></label><div class='xr-var-attrs'><dl class='xr-attrs'></dl></div><div class='xr-var-data'><pre>array([[[ 6.91819  ,  6.4456134,  6.058938 , ...,  7.9094133,\n",
       "          7.744878 ,  7.3994803],\n",
       "        [ 6.430825 ,  5.97959  ,  5.6294947, ...,  7.75583  ,\n",
       "          7.4501586,  6.9901843],\n",
       "        [ 5.9440546,  5.5493193,  5.2169037, ...,  7.552054 ,\n",
       "          7.097845 ,  6.5316734],\n",
       "        ...,\n",
       "        [10.531389 , 10.682369 , 10.7570095, ...,  9.776978 ,\n",
       "         10.159761 , 10.446861 ],\n",
       "        [10.336783 , 10.518597 , 10.657583 , ...,  9.796358 ,\n",
       "         10.101026 , 10.309957 ],\n",
       "        [10.1706   , 10.415768 , 10.585974 , ...,  9.646999 ,\n",
       "          9.8325615, 10.043258 ]],\n",
       "\n",
       "       [[ 6.561228 ,  6.1213236,  5.7753816, ...,  8.028203 ,\n",
       "          7.5877714,  7.0820155],\n",
       "        [ 6.037753 ,  5.625778 ,  5.339262 , ...,  7.690954 ,\n",
       "          7.1649814,  6.592375 ],\n",
       "        [ 5.5272408,  5.1973166,  4.978013 , ...,  7.319488 ,\n",
       "          6.69813  ,  6.0713706],\n",
       "...\n",
       "        [10.919622 , 10.911406 , 10.917545 , ...,  9.078647 ,\n",
       "          9.862359 , 10.541657 ],\n",
       "        [11.022961 , 10.849268 , 10.814629 , ...,  9.269412 ,\n",
       "         10.070544 , 10.740276 ],\n",
       "        [10.674604 , 10.78926  , 10.86116  , ...,  9.840228 ,\n",
       "         10.160411 , 10.5392685]],\n",
       "\n",
       "       [[ 6.495184 ,  6.5277762,  6.523371 , ...,  6.9944916,\n",
       "          6.727792 ,  6.5627713],\n",
       "        [ 6.281102 ,  6.3989596,  6.4158106, ...,  6.6060205,\n",
       "          6.3999133,  6.2977777],\n",
       "        [ 6.1586566,  6.2983117,  6.294938 , ...,  6.281462 ,\n",
       "          6.1329203,  6.0925803],\n",
       "        ...,\n",
       "        [10.613893 , 10.576435 , 10.506615 , ...,  9.22962  ,\n",
       "          9.76862  , 10.285607 ],\n",
       "        [10.72981  , 10.387682 , 10.35696  , ...,  9.238327 ,\n",
       "          9.931932 , 10.527905 ],\n",
       "        [10.346778 , 10.265415 , 10.339095 , ...,  9.668352 ,\n",
       "          9.891063 , 10.225349 ]]], dtype=float32)</pre></div></li></ul></div></li><li class='xr-section-item'><input id='section-2fc704f1-bd3e-4121-896b-a66d2f1f69b0' class='xr-section-summary-in' type='checkbox'  checked><label for='section-2fc704f1-bd3e-4121-896b-a66d2f1f69b0' class='xr-section-summary' >Attributes: <span>(2)</span></label><div class='xr-section-inline-details'></div><div class='xr-section-details'><dl class='xr-attrs'><dt><span>Conventions :</span></dt><dd>CF-1.6</dd><dt><span>history :</span></dt><dd>2022-08-17 09:31:49 GMT by grib_to_netcdf-2.25.1: /opt/ecmwf/mars-client/bin/grib_to_netcdf.bin -S param -o /cache/data1/adaptor.mars.internal-1660728709.359887-11860-2-6b5771cc-8a22-4160-ae6b-8b988de2a294.nc /cache/tmp/6b5771cc-8a22-4160-ae6b-8b988de2a294-adaptor.mars.internal-1660728706.5795515-11860-3-tmp.grib</dd></dl></div></li></ul></div></div>"
      ],
      "text/plain": [
       "<xarray.Dataset>\n",
       "Dimensions:         (longitude: 1440, latitude: 321, time: 24)\n",
       "Coordinates:\n",
       "  * longitude       (longitude) float32 -180.0 -179.8 -179.5 ... 179.5 179.8\n",
       "  * latitude        (latitude) float32 40.0 39.75 39.5 ... -39.5 -39.75 -40.0\n",
       "  * time            (time) datetime64[ns] 2022-08-02 ... 2022-08-02T23:00:00\n",
       "Data variables:\n",
       "    u10             (time, latitude, longitude) float32 ...\n",
       "    v10             (time, latitude, longitude) float32 ...\n",
       "    ERA5_windspeed  (time, latitude, longitude) float32 6.918 6.446 ... 10.23\n",
       "Attributes:\n",
       "    Conventions:  CF-1.6\n",
       "    history:      2022-08-17 09:31:49 GMT by grib_to_netcdf-2.25.1: /opt/ecmw..."
      ]
     },
     "execution_count": 16,
     "metadata": {},
     "output_type": "execute_result"
    }
   ],
   "source": [
    "ds_era5"
   ]
  },
  {
   "cell_type": "code",
   "execution_count": 17,
   "id": "a34aa5bc-708b-46d1-92c5-d16ce03fdb77",
   "metadata": {},
   "outputs": [],
   "source": [
    "y_true = ds_era5['ERA5_windspeed'].values"
   ]
  },
  {
   "cell_type": "code",
   "execution_count": 18,
   "id": "e93cef28-cd44-43d6-861b-bcc113b2c5e2",
   "metadata": {},
   "outputs": [
    {
     "data": {
      "text/plain": [
       "<matplotlib.image.AxesImage at 0x7fff8614ec40>"
      ]
     },
     "execution_count": 18,
     "metadata": {},
     "output_type": "execute_result"
    },
    {
     "data": {
      "image/png": "[encoded data removed]",
      "text/plain": [
       "<Figure size 432x288 with 1 Axes>"
      ]
     },
     "metadata": {
      "needs_background": "light"
     },
     "output_type": "display_data"
    }
   ],
   "source": [
    "y_ocean = np.copy(y_true[0])\n",
    "y_ocean[globe_land_mask.T] = None\n",
    "plt.imshow(y_ocean)"
   ]
  },
  {
   "cell_type": "code",
   "execution_count": 19,
   "id": "f8c8f61d-12e3-43d0-b978-72a8ff634f63",
   "metadata": {},
   "outputs": [
    {
     "data": {
      "text/plain": [
       "<matplotlib.image.AxesImage at 0x7fff860427f0>"
      ]
     },
     "execution_count": 19,
     "metadata": {},
     "output_type": "execute_result"
    },
    {
     "data": {
      "image/png": "[encoded data removed]",
      "text/plain": [
       "<Figure size 432x288 with 1 Axes>"
      ]
     },
     "metadata": {
      "needs_background": "light"
     },
     "output_type": "display_data"
    }
   ],
   "source": [
    "y_land = np.copy(y_true[0])\n",
    "y_land[globe_ocean_mask.T] = None\n",
    "plt.imshow(y_land)"
   ]
  },
  {
   "cell_type": "code",
   "execution_count": 20,
   "id": "c37b3e33-27bf-403c-a155-91b5978d0717",
   "metadata": {},
   "outputs": [
    {
     "data": {
      "image/png": "[encoded data removed]",
      "text/plain": [
       "<Figure size 432x288 with 1 Axes>"
      ]
     },
     "metadata": {
      "needs_background": "light"
     },
     "output_type": "display_data"
    }
   ],
   "source": [
    "y_bins = np.arange(0, 20, 0.25)\n",
    "\n",
    "sns.histplot(y_land.flatten(), label='Land', color='brown')\n",
    "sns.histplot(y_ocean.flatten(), label='Ocean', color='C0')\n",
    "plt.legend()\n",
    "plt.show()"
   ]
  },
  {
   "cell_type": "code",
   "execution_count": 21,
   "id": "3e4565f1-a62c-423f-9b20-c505d5908a18",
   "metadata": {},
   "outputs": [],
   "source": [
    "df = pd.DataFrame()"
   ]
  },
  {
   "cell_type": "code",
   "execution_count": 22,
   "id": "a07e0569-6021-4cb0-8b05-76ea5b37ee88",
   "metadata": {},
   "outputs": [],
   "source": [
    "df['windspeed'] = y_true[0].flatten()\n",
    "df['is_ocean']  = globe_ocean_mask.T.flatten()"
   ]
  },
  {
   "cell_type": "code",
   "execution_count": 23,
   "id": "96bb67b5-ef95-46a2-9c9c-855e0190a574",
   "metadata": {},
   "outputs": [
    {
     "name": "stdout",
     "output_type": "stream",
     "text": [
      "Mean windspeed (m/s)\n"
     ]
    },
    {
     "data": {
      "text/plain": [
       "is_ocean\n",
       "False    2.808173\n",
       "True     6.818164\n",
       "Name: windspeed, dtype: float32"
      ]
     },
     "execution_count": 23,
     "metadata": {},
     "output_type": "execute_result"
    }
   ],
   "source": [
    "print('Mean windspeed (m/s)')\n",
    "df.groupby('is_ocean')['windspeed'].mean()"
   ]
  },
  {
   "cell_type": "code",
   "execution_count": 24,
   "id": "88de38ba-b20c-4a7e-96c0-de22f8b86c99",
   "metadata": {},
   "outputs": [
    {
     "name": "stdout",
     "output_type": "stream",
     "text": [
      "Stddev windspeed (m/s)\n"
     ]
    },
    {
     "data": {
      "text/plain": [
       "is_ocean\n",
       "False    1.995847\n",
       "True     2.759875\n",
       "Name: windspeed, dtype: float64"
      ]
     },
     "execution_count": 24,
     "metadata": {},
     "output_type": "execute_result"
    }
   ],
   "source": [
    "print('Stddev windspeed (m/s)')\n",
    "df.groupby('is_ocean')['windspeed'].std()"
   ]
  },
  {
   "cell_type": "markdown",
   "id": "8b7d87c2-ae60-45d3-9885-a3886091d610",
   "metadata": {},
   "source": [
    "Interpolate the ERA5 wind speed in space and time to match the CyGNSS DDM coordinates. For example to pick the nearest neighbor value a simple `argmin` is sufficient."
   ]
  },
  {
   "cell_type": "code",
   "execution_count": 25,
   "id": "2ffcc53f-8405-4a66-b37b-59ab12b1129a",
   "metadata": {},
   "outputs": [],
   "source": [
    "cygnss_lat = 23.76\n",
    "cygnss_lon = 140.0\n",
    "cygnss_time = np.datetime64('2022-08-02T06:12:47.0') # 06:12:47"
   ]
  },
  {
   "cell_type": "code",
   "execution_count": 26,
   "id": "d06f8100-e5f2-4e85-b0be-dfa31dff9350",
   "metadata": {},
   "outputs": [
    {
     "data": {
      "text/plain": [
       "True"
      ]
     },
     "execution_count": 26,
     "metadata": {},
     "output_type": "execute_result"
    }
   ],
   "source": [
    "globe.is_ocean(cygnss_lat, cygnss_lon)"
   ]
  },
  {
   "cell_type": "code",
   "execution_count": 27,
   "id": "77c2d41e-cbe0-4a6a-9066-c5131a61ad84",
   "metadata": {},
   "outputs": [],
   "source": [
    "ix_lats = np.argmin(np.abs(cygnss_lat - lats))\n",
    "ix_lons = np.argmin(np.abs(cygnss_lon - lons))\n",
    "ix_time = np.argmin(np.abs(cygnss_time - times))"
   ]
  },
  {
   "cell_type": "code",
   "execution_count": 28,
   "id": "b0e08fcd-f445-4d7c-95d5-46f4c17613d0",
   "metadata": {},
   "outputs": [],
   "source": [
    "y_nn = y_true[ix_time, ix_lats, ix_lons]"
   ]
  },
  {
   "cell_type": "code",
   "execution_count": 29,
   "id": "61ecebcd-7bb8-4e62-933b-659ea1bd5714",
   "metadata": {},
   "outputs": [
    {
     "data": {
      "text/plain": [
       "1.736329"
      ]
     },
     "execution_count": 29,
     "metadata": {},
     "output_type": "execute_result"
    }
   ],
   "source": [
    "y_nn"
   ]
  },
  {
   "cell_type": "markdown",
   "id": "736523ff-31bd-4769-a41f-0638133067cc",
   "metadata": {},
   "source": [
    "More sophisticated using interpolation\n",
    "\n",
    "https://docs.scipy.org/doc/scipy/reference/generated/scipy.interpolate.LSQSphereBivariateSpline.html#scipy.interpolate.LSQSphereBivariateSpline"
   ]
  },
  {
   "cell_type": "code",
   "execution_count": 30,
   "id": "35a56d7c-e270-4dbd-95ff-1bba8cb616ef",
   "metadata": {},
   "outputs": [],
   "source": [
    "import scipy"
   ]
  },
  {
   "cell_type": "code",
   "execution_count": 31,
   "id": "b2ac941e-ad50-4434-b67b-7b3c617f8241",
   "metadata": {},
   "outputs": [],
   "source": [
    "from scipy.interpolate import interp2d"
   ]
  },
  {
   "cell_type": "code",
   "execution_count": 32,
   "id": "150ce8fd-d887-450e-aeb9-99e29e2df9b7",
   "metadata": {},
   "outputs": [],
   "source": [
    "f_interp = interp2d(lats, lons, y_true[6].T)"
   ]
  },
  {
   "cell_type": "code",
   "execution_count": 33,
   "id": "50b0a575-94d3-4043-bd29-04a1e8d4b73b",
   "metadata": {},
   "outputs": [
    {
     "data": {
      "text/plain": [
       "array([1.7523313])"
      ]
     },
     "execution_count": 33,
     "metadata": {},
     "output_type": "execute_result"
    }
   ],
   "source": [
    "f_interp(cygnss_lat, cygnss_lon)"
   ]
  },
  {
   "cell_type": "code",
   "execution_count": null,
   "id": "4845ae8e-479d-49b3-9437-ecc670582646",
   "metadata": {},
   "outputs": [],
   "source": []
  }
 ],
 "metadata": {
  "kernelspec": {
   "display_name": "iconml",
   "language": "python",
   "name": "iconml"
  },
  "language_info": {
   "codemirror_mode": {
    "name": "ipython",
    "version": 3
   },
   "file_extension": ".py",
   "mimetype": "text/x-python",
   "name": "python",
   "nbconvert_exporter": "python",
   "pygments_lexer": "ipython3",
   "version": "3.9.12"
  }
 },
 "nbformat": 4,
 "nbformat_minor": 5
}
