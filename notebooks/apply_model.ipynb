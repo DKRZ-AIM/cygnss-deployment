{
 "cells": [
  {
   "cell_type": "markdown",
   "id": "ef18c89f",
   "metadata": {},
   "source": [
    "Apply a trained model to test data"
   ]
  },
  {
   "cell_type": "markdown",
   "id": "a844cf0c",
   "metadata": {},
   "source": [
    "# Setup"
   ]
  },
  {
   "cell_type": "code",
   "execution_count": 1,
   "id": "0a54b1d4",
   "metadata": {},
   "outputs": [
    {
     "name": "stderr",
     "output_type": "stream",
     "text": [
      "/home/frauke/anaconda3/envs/cygnss-deploy/lib/python3.10/site-packages/tqdm/auto.py:22: TqdmWarning: IProgress not found. Please update jupyter and ipywidgets. See https://ipywidgets.readthedocs.io/en/stable/user_install.html\n",
      "  from .autonotebook import tqdm as notebook_tqdm\n"
     ]
    }
   ],
   "source": [
    "import os\n",
    "import sys\n",
    "import time\n",
    "import numpy as np\n",
    "import h5py\n",
    "import torch\n",
    "from torch.utils.data import DataLoader, Dataset\n",
    "import pytorch_lightning as pl\n",
    "from pytorch_lightning.callbacks.model_summary import ModelSummary\n",
    "from collections import namedtuple\n",
    "import xarray\n",
    "sys.path.append('../')\n",
    "from cygnssnet import ImageNet, DenseNet, CyGNSSNet, CyGNSSDataModule#, CyGNSSDataset\n",
    "import utils.mathematics as mat"
   ]
  },
  {
   "cell_type": "code",
   "execution_count": 2,
   "id": "641f2395",
   "metadata": {},
   "outputs": [
    {
     "data": {
      "text/plain": [
       "'1.7.2'"
      ]
     },
     "execution_count": 2,
     "metadata": {},
     "output_type": "execute_result"
    }
   ],
   "source": [
    "pl.__version__"
   ]
  },
  {
   "cell_type": "markdown",
   "id": "f2db2b11",
   "metadata": {},
   "source": [
    "# Load Hyperparameters"
   ]
  },
  {
   "cell_type": "code",
   "execution_count": 3,
   "id": "289235ee",
   "metadata": {},
   "outputs": [],
   "source": [
    "path = '../saved_models'\n",
    "model = 'cygnssnet-epoch=0.ckpt'\n",
    "checkpoint = torch.load(os.path.join(path, model),\n",
    "                       map_location=torch.device(\"cpu\"))"
   ]
  },
  {
   "cell_type": "code",
   "execution_count": 4,
   "id": "8ebb1980",
   "metadata": {},
   "outputs": [
    {
     "data": {
      "text/plain": [
       "dict_keys(['epoch', 'global_step', 'pytorch-lightning_version', 'state_dict', 'callbacks', 'optimizer_states', 'lr_schedulers', 'hparams_name', 'hyper_parameters'])"
      ]
     },
     "execution_count": 4,
     "metadata": {},
     "output_type": "execute_result"
    }
   ],
   "source": [
    "checkpoint.keys()"
   ]
  },
  {
   "cell_type": "code",
   "execution_count": 5,
   "id": "1c823de1",
   "metadata": {},
   "outputs": [
    {
     "data": {
      "text/plain": [
       "dict_keys(['model', 'learning_rate', 'test_batch_size', 'optimizer', 'data', 'v_map', 'v_par', 'v_par_eval', 'v_par_eval_2d', 'log_v_par', 'n_quantiles', 'early_stopping', 'patience', 'verbose', 'nni', 'save_model_path', 'prediction_output_path', 'load_model_path', 'logger', 'checkpoint_callback', 'enable_checkpointing', 'default_root_dir', 'gradient_clip_val', 'gradient_clip_algorithm', 'process_position', 'num_nodes', 'num_processes', 'devices', 'gpus', 'auto_select_gpus', 'tpu_cores', 'ipus', 'log_gpu_memory', 'progress_bar_refresh_rate', 'enable_progress_bar', 'overfit_batches', 'track_grad_norm', 'check_val_every_n_epoch', 'fast_dev_run', 'accumulate_grad_batches', 'max_epochs', 'min_epochs', 'max_steps', 'min_steps', 'max_time', 'limit_train_batches', 'limit_val_batches', 'limit_test_batches', 'limit_predict_batches', 'val_check_interval', 'flush_logs_every_n_steps', 'log_every_n_steps', 'accelerator', 'strategy', 'sync_batchnorm', 'precision', 'enable_model_summary', 'weights_summary', 'weights_save_path', 'num_sanity_val_steps', 'resume_from_checkpoint', 'profiler', 'benchmark', 'deterministic', 'reload_dataloaders_every_n_epochs', 'reload_dataloaders_every_epoch', 'auto_lr_find', 'replace_sampler_ddp', 'detect_anomaly', 'auto_scale_batch_size', 'prepare_data_per_node', 'plugins', 'amp_backend', 'amp_level', 'move_metrics_to_cpu', 'multiple_trainloader_mode', 'stochastic_weight_avg', 'terminate_on_nan', 'log_transform_rain', 'transform_target', 'confidence_interval_bottom', 'confidence_interval_top', 'min_wind_speed', 'train_days', 'min_samples_in_sequence', 'num_workers', 'accept_reject', 'batch_size', 'filters_conv1', 'n_conv_layers', 'double_filters_every', 'pool_every', 'units_dense1', 'units_dense2', 'units_dense_v_par', 'activation', 'activation_v_par', 'loss', 'bn_after_activation', 'dropout_dense1', 'dropout_dense2', 'dropout_v_par', 'normalization_values'])"
      ]
     },
     "execution_count": 5,
     "metadata": {},
     "output_type": "execute_result"
    }
   ],
   "source": [
    "checkpoint['hyper_parameters'].keys()"
   ]
  },
  {
   "cell_type": "code",
   "execution_count": 6,
   "id": "e08d6918",
   "metadata": {},
   "outputs": [
    {
     "data": {
      "text/plain": [
       "'../data'"
      ]
     },
     "execution_count": 6,
     "metadata": {},
     "output_type": "execute_result"
    }
   ],
   "source": [
    "# change data path\n",
    "checkpoint['hyper_parameters'][\"data\"]='../data'\n",
    "checkpoint['hyper_parameters'][\"data\"]"
   ]
  },
  {
   "cell_type": "code",
   "execution_count": 7,
   "id": "835bda84",
   "metadata": {},
   "outputs": [],
   "source": [
    "args = namedtuple(\"ObjectName\", checkpoint['hyper_parameters'].keys())(*checkpoint['hyper_parameters'].values())"
   ]
  },
  {
   "cell_type": "code",
   "execution_count": 8,
   "id": "f416c891",
   "metadata": {},
   "outputs": [
    {
     "data": {
      "text/plain": [
       "ObjectName(model='cnn', learning_rate=0.001, test_batch_size=64, optimizer='adam', data='../data', v_map=['brcs', 'eff_scatter', 'power_analog', 'raw_counts'], v_par=['ddm_nbrcs', 'ddm_les', 'gps_eirp', 'lna_temp_nadir_port', 'lna_temp_nadir_starboard', 'lna_temp_zenith', 'sc_roll', 'sc_yaw', 'sp_az_body', 'sp_az_orbit', 'sp_rx_gain', 'sp_theta_body', 'tx_pos_x', 'tx_pos_y', 'tx_pos_z', 'tx_vel_x', 'tx_vel_y', 'tx_vel_z', 'zenith_sig_i2q2', 'ddm_snr', 'gps_off_boresight_angle_deg', 'rx_clk_bias_rate', 'sp_ddmi_dopp'], v_par_eval=['GPM_precipitation', 'ddm_ant', 'ddm_brcs_uncert', 'ddm_les', 'ddm_nbrcs', 'ddm_snr', 'ddm_timestamp_unix', 'ddm_timestamp_utc', 'gps_eirp', 'les_scatter_area_log10', 'lna_temp_nadir_port', 'lna_temp_nadir_starboard', 'lna_temp_zenith', 'nbrcs_scatter_area_log10', 'rx_to_sp_range_log10', 'samples_in_sequence', 'sc_alt', 'sc_lat', 'sc_lon', 'sc_pitch', 'sc_roll', 'sc_velocity', 'sc_yaw', 'sp_alt', 'sp_az_orbit', 'sp_inc_angle', 'sp_lat', 'sp_lon', 'sp_rx_gain', 'sp_theta_orbit', 'sp_velocity', 'sv_num', 'track_id', 'tx_to_sp_range_log10', 'windspeed', 'zenith_code_phase', 'zenith_sig_i2q2', 'ddm_nbrcs_exceeds_alpha_0.975', 'ddm_nbrcs_exceeds_alpha_0.025'], v_par_eval_2d=['windspeed+GPM_precipitation'], log_v_par=[], n_quantiles=20, early_stopping=True, patience=6, verbose=True, nni=False, save_model_path='./best_model.pt', prediction_output_path='best_predictions.h5', load_model_path='', logger=True, checkpoint_callback=None, enable_checkpointing=True, default_root_dir=None, gradient_clip_val=None, gradient_clip_algorithm=None, process_position=0, num_nodes=1, num_processes=1, devices=None, gpus=1, auto_select_gpus=False, tpu_cores=None, ipus=None, log_gpu_memory=None, progress_bar_refresh_rate=None, enable_progress_bar=True, overfit_batches=0.0, track_grad_norm=-1, check_val_every_n_epoch=1, fast_dev_run=False, accumulate_grad_batches=None, max_epochs=100, min_epochs=None, max_steps=-1, min_steps=None, max_time=None, limit_train_batches=1.0, limit_val_batches=1.0, limit_test_batches=1.0, limit_predict_batches=1.0, val_check_interval=1.0, flush_logs_every_n_steps=None, log_every_n_steps=50, accelerator=None, strategy=None, sync_batchnorm=False, precision=32, enable_model_summary=True, weights_summary='top', weights_save_path=None, num_sanity_val_steps=2, resume_from_checkpoint=None, profiler=None, benchmark=False, deterministic=False, reload_dataloaders_every_n_epochs=0, reload_dataloaders_every_epoch=False, auto_lr_find=False, replace_sampler_ddp=True, detect_anomaly=False, auto_scale_batch_size=False, prepare_data_per_node=None, plugins=None, amp_backend='native', amp_level=None, move_metrics_to_cpu=False, multiple_trainloader_mode='max_size_cycle', stochastic_weight_avg=False, terminate_on_nan=None, log_transform_rain=False, transform_target=False, confidence_interval_bottom='ddm_nbrcs_exceeds_alpha_0.975', confidence_interval_top='ddm_nbrcs_exceeds_alpha_0.025', min_wind_speed=2.5, train_days=inf, min_samples_in_sequence=1, num_workers=8, accept_reject=None, batch_size=64, filters_conv1=32, n_conv_layers=8, double_filters_every=2, pool_every=4, units_dense1=12, units_dense2=40, units_dense_v_par=160, activation='relu', activation_v_par='relu', loss='mse', bn_after_activation=False, dropout_dense1=0.12, dropout_dense2=0.1, dropout_v_par=0.2, normalization_values={'brcs_mean': 4855346700.0, 'brcs_std': 7805156400.0, 'eff_scatter_mean': 105754020.0, 'eff_scatter_std': 139116770.0, 'power_analog_mean': 3.8839393e-18, 'power_analog_std': 6.6675902e-18, 'raw_counts_mean': 11506.54, 'raw_counts_std': 6060.3506, 'ddm_nbrcs_mean': 46.814835, 'ddm_nbrcs_std': 18.668869, 'ddm_les_mean': 17.52739, 'ddm_les_std': 8.109041, 'gps_eirp_mean': 1160.0359, 'gps_eirp_std': 488.1599, 'lna_temp_nadir_port_mean': 10.92913, 'lna_temp_nadir_port_std': 3.5150013, 'lna_temp_nadir_starboard_mean': 12.376393, 'lna_temp_nadir_starboard_std': 3.3564677, 'lna_temp_zenith_mean': 13.599873, 'lna_temp_zenith_std': 3.0210967, 'sc_roll_mean': 0.08451953, 'sc_roll_std': 0.14120227, 'sc_yaw_mean': -4.195016e-05, 'sc_yaw_std': 0.0078034154, 'sp_az_body_mean': 169.41371, 'sp_az_body_std': 91.98982, 'sp_az_orbit_mean': 169.4722, 'sp_az_orbit_std': 93.03774, 'sp_rx_gain_mean': 8.238318, 'sp_rx_gain_std': 2.5788338, 'sp_theta_body_mean': 30.889544, 'sp_theta_body_std': 11.717241, 'tx_pos_x_mean': -2199986.5, 'tx_pos_x_std': 15938638.0, 'tx_pos_y_mean': -2283322.8, 'tx_pos_y_std': 15077077.0, 'tx_pos_z_mean': -2056199.5, 'tx_pos_z_std': 14491992.0, 'tx_vel_x_mean': 122.34344, 'tx_vel_x_std': 1293.1665, 'tx_vel_y_mean': -110.757706, 'tx_vel_y_std': 1344.539, 'tx_vel_z_mean': 30.774485, 'tx_vel_z_std': 2339.8271, 'zenith_sig_i2q2_mean': 52903996.0, 'zenith_sig_i2q2_std': 24504386.0, 'ddm_snr_mean': 4.308053, 'ddm_snr_std': 1.699571, 'gps_off_boresight_angle_deg_mean': 7.2865586, 'gps_off_boresight_angle_deg_std': 2.6092463, 'rx_clk_bias_rate_mean': 18.925364, 'rx_clk_bias_rate_std': 51.535408, 'sp_ddmi_dopp_mean': -11.257084, 'sp_ddmi_dopp_std': 6515.4795})"
      ]
     },
     "execution_count": 8,
     "metadata": {},
     "output_type": "execute_result"
    }
   ],
   "source": [
    "args"
   ]
  },
  {
   "cell_type": "code",
   "execution_count": 9,
   "id": "4e95f038",
   "metadata": {},
   "outputs": [
    {
     "data": {
      "text/plain": [
       "'../data'"
      ]
     },
     "execution_count": 9,
     "metadata": {},
     "output_type": "execute_result"
    }
   ],
   "source": [
    "args.data"
   ]
  },
  {
   "cell_type": "markdown",
   "id": "37b1dc5f",
   "metadata": {},
   "source": [
    "# Load the Data"
   ]
  },
  {
   "cell_type": "code",
   "execution_count": 10,
   "id": "8830ff1f",
   "metadata": {},
   "outputs": [],
   "source": [
    "data_path = \"../data\"\n",
    "h5_file = h5py.File(os.path.join(data_path, 'test_data.h5'), 'r', rdcc_nbytes=0)"
   ]
  },
  {
   "cell_type": "code",
   "execution_count": 11,
   "id": "c6035201",
   "metadata": {},
   "outputs": [
    {
     "name": "stdout",
     "output_type": "stream",
     "text": [
      "ERA5_mdts\n",
      "ERA5_mdww\n",
      "ERA5_p140121\n",
      "ERA5_p140124\n",
      "ERA5_p140127\n",
      "ERA5_shts\n",
      "ERA5_shww\n",
      "ERA5_swh\n",
      "GPM_precipitation\n",
      "att_timestamp_utc\n",
      "brcs\n",
      "brcs_ddm_peak_bin_delay_row\n",
      "brcs_ddm_peak_bin_dopp_col\n",
      "brcs_ddm_sp_bin_delay_row\n",
      "brcs_ddm_sp_bin_dopp_col\n",
      "ddm\n",
      "ddm_ant\n",
      "ddm_brcs_uncert\n",
      "ddm_les\n",
      "ddm_nbrcs\n",
      "ddm_nbrcs_exceeds_alpha_0.025\n",
      "ddm_nbrcs_exceeds_alpha_0.05\n",
      "ddm_nbrcs_exceeds_alpha_0.95\n",
      "ddm_nbrcs_exceeds_alpha_0.975\n",
      "ddm_noise_floor\n",
      "ddm_snr\n",
      "ddm_timestamp_unix\n",
      "ddm_timestamp_utc\n",
      "eff_scatter\n",
      "gps_ant_gain_db_i\n",
      "gps_eirp\n",
      "gps_off_boresight_angle_deg\n",
      "gps_tx_power_db_w\n",
      "inst_gain\n",
      "les_scatter_area_log10\n",
      "lna_temp_nadir_port\n",
      "lna_temp_nadir_starboard\n",
      "lna_temp_zenith\n",
      "nbrcs_scatter_area_log10\n",
      "power_analog\n",
      "prn_code\n",
      "prn_fig_of_merit\n",
      "pvt_timestamp_utc\n",
      "raw_counts\n",
      "rx_clk_bias\n",
      "rx_clk_bias_rate\n",
      "rx_to_sp_range\n",
      "rx_to_sp_range_log10\n",
      "samples_in_sequence\n",
      "sc_alt\n",
      "sc_lat\n",
      "sc_lon\n",
      "sc_pitch\n",
      "sc_roll\n",
      "sc_velocity\n",
      "sc_yaw\n",
      "sp_alt\n",
      "sp_az_body\n",
      "sp_az_orbit\n",
      "sp_ddmi_dopp\n",
      "sp_fsw_delay\n",
      "sp_inc_angle\n",
      "sp_lat\n",
      "sp_lon\n",
      "sp_rx_gain\n",
      "sp_theta_body\n",
      "sp_theta_orbit\n",
      "sp_velocity\n",
      "spacecraft_num\n",
      "status_flags_one_hz\n",
      "sv_num\n",
      "track_id\n",
      "tx_pos_x\n",
      "tx_pos_y\n",
      "tx_pos_z\n",
      "tx_to_sp_range\n",
      "tx_to_sp_range_log10\n",
      "tx_vel_x\n",
      "tx_vel_y\n",
      "tx_vel_z\n",
      "windspeed\n",
      "zenith_code_phase\n",
      "zenith_sig_i2q2\n"
     ]
    }
   ],
   "source": [
    "for key in h5_file.keys():\n",
    "    print(key)"
   ]
  },
  {
   "cell_type": "code",
   "execution_count": 12,
   "id": "07b6acbb",
   "metadata": {},
   "outputs": [
    {
     "data": {
      "text/plain": [
       "(7961,)"
      ]
     },
     "execution_count": 12,
     "metadata": {},
     "output_type": "execute_result"
    }
   ],
   "source": [
    "h5_file['ddm'][:].shape"
   ]
  },
  {
   "cell_type": "code",
   "execution_count": 13,
   "id": "770432f3",
   "metadata": {},
   "outputs": [
    {
     "data": {
      "text/plain": [
       "(7961,)"
      ]
     },
     "execution_count": 13,
     "metadata": {},
     "output_type": "execute_result"
    }
   ],
   "source": [
    "y = h5_file['windspeed'][:].astype(np.float32)\n",
    "y.shape"
   ]
  },
  {
   "cell_type": "markdown",
   "id": "06599082",
   "metadata": {},
   "source": [
    "# Load Model from Checkpoint"
   ]
  },
  {
   "cell_type": "code",
   "execution_count": 14,
   "id": "8ba91adf",
   "metadata": {},
   "outputs": [
    {
     "data": {
      "text/plain": [
       "'cnn'"
      ]
     },
     "execution_count": 14,
     "metadata": {},
     "output_type": "execute_result"
    }
   ],
   "source": [
    "checkpoint['hyper_parameters'][\"model\"]"
   ]
  },
  {
   "cell_type": "code",
   "execution_count": 15,
   "id": "ef993a93",
   "metadata": {},
   "outputs": [],
   "source": [
    "class CyGNSSDataset(Dataset):\n",
    "    \"\"\" Handles everything all Datasets of the different Model have in common like loading the same data files.\"\"\"\n",
    "    def __init__(self, flag, args):\n",
    "        '''\n",
    "        Load data and apply transforms during setup\n",
    "\n",
    "        Parameters:\n",
    "        -----------\n",
    "        flag : string\n",
    "            Any of train / valid / test. Defines dataset.\n",
    "        args : argparse Namespace\n",
    "            arguments passed to the main script\n",
    "        -----------\n",
    "        Returns: dataset\n",
    "        '''\n",
    "        self.args=args\n",
    "        self.h5_file = h5py.File(os.path.join(args.data, flag + '_data.h5'), 'r', rdcc_nbytes=0)  # disable cache\n",
    "        # load everything into memory\n",
    "        print(f'\\ntimestamp of {flag} data: {self.h5_file.attrs[\"timestamp\"]}')\n",
    "        start_time = time.time()\n",
    "        print(f'loading {flag} data into memory...', end='\\r')\n",
    "        \n",
    "        self.v_par_all_names = self.args.v_par + self.args.v_par_eval\n",
    "\n",
    "        # load labels\n",
    "        self.y = self.h5_file['windspeed'][:].astype(np.float32)\n",
    "\n",
    "        # normalize main input data\n",
    "        # Save normalization values together with the trained model\n",
    "        # For inference load the normalization values\n",
    "\n",
    "        if flag=='train': # determine normalization values\n",
    "            self.args.normalization_values = dict()\n",
    "        \n",
    "        print(f'\\nnormalizing {flag} data')\n",
    "        # stack map vars (2D vars)\n",
    "        self.X = []\n",
    "        for v_map in self.args.v_map:\n",
    "            X_v_map = self.h5_file[v_map][:].astype(np.float32)\n",
    "            if flag=='train':\n",
    "                norm_vals = dict()\n",
    "                X_v_map, X_mean, X_std = mat.standard_scale(X_v_map, return_params=True)\n",
    "                self.args.normalization_values[f'{v_map}_mean'] = X_mean\n",
    "                self.args.normalization_values[f'{v_map}_std']  = X_std\n",
    "            else:\n",
    "                X_mean = self.args.normalization_values[f'{v_map}_mean']\n",
    "                X_std = self.args.normalization_values[f'{v_map}_std']\n",
    "                X_v_map = mat.standard_scale(X_v_map, mean=X_mean, scale=X_std)\n",
    "                \n",
    "            self.X.append(X_v_map) # append scaled 2D map\n",
    "            print(f'* {v_map} after normalization: mean={np.mean(X_v_map):.2e} / std = {np.std(X_v_map):.2e}')\n",
    "        self.X = np.stack(self.X, axis=1)\n",
    "       # stack additional vars\n",
    "        # load all vars first\n",
    "        self.v_par_all = [self.h5_file[par][:] for par in self.v_par_all_names]\n",
    "        n_v_par = len(self.args.v_par)\n",
    "        if n_v_par > 0:\n",
    "            # only normalize input vars\n",
    "            for i, par in enumerate(self.v_par_all[:n_v_par]):\n",
    "                key = self.v_par_all_names[i]\n",
    "                # additional log transform\n",
    "                if key in self.args.log_v_par:\n",
    "                    print(f'* {key} is log-transformed before normalization')\n",
    "                    par = mat.log_transform(par)\n",
    "                if flag=='train':\n",
    "                    self.v_par_all[i], v_mean, v_std = mat.standard_scale(par, return_params=True) \n",
    "                    self.args.normalization_values[f'{key}_mean'] = v_mean\n",
    "                    self.args.normalization_values[f'{key}_std'] = v_std\n",
    "                else:\n",
    "                    v_mean = self.args.normalization_values[f'{key}_mean']\n",
    "                    v_std = self.args.normalization_values[f'{key}_std']\n",
    "                    self.v_par_all[i] = mat.standard_scale(par, mean=v_mean, scale=v_std)\n",
    "                tm = np.mean(self.v_par_all[i]) # true mean\n",
    "                ts = np.std(self.v_par_all[i]) # true std\n",
    "                print(f'* {key} after normalization: mean={tm:.2e} / std = {ts:.2e}')\n",
    "            self.v_par = np.stack(self.v_par_all[:n_v_par], axis=1)\n",
    "        else:\n",
    "            self.v_par = []\n",
    "        if self.args.v_par_eval:\n",
    "            self.v_par_eval = np.stack(self.v_par_all[n_v_par:], axis=1)\n",
    "        else:\n",
    "            self.v_par_eval = []\n",
    "\n",
    "        # additional reduction of the data set\n",
    "        if self.args.min_samples_in_sequence > 1:\n",
    "            col_idx = self.args.v_par_eval.index('samples_in_sequence')\n",
    "            mask = self.v_par_eval[:, col_idx] >= self.args.min_samples_in_sequence\n",
    "            mask = mask.astype(bool)\n",
    "            self._filter_all_data_by_mask(mask, flag, 'min_samples_in_sequence')\n",
    "        if self.args.min_wind_speed > 0:\n",
    "            col_idx = self.args.v_par_eval.index('windspeed')\n",
    "            mask = self.v_par_eval[:, col_idx] >= self.args.min_wind_speed\n",
    "            mask = mask.astype(bool)\n",
    "            self._filter_all_data_by_mask(mask, flag, 'min_wind_speed')\n",
    "        if flag=='train' and self.args.train_days < np.inf:\n",
    "            col_idx = self.args.v_par_eval.index('ddm_timestamp_unix')\n",
    "            daystamp = self.v_par_eval[:, col_idx]\n",
    "            daystamp = (daystamp - np.min(daystamp)) / 24 / 3600\n",
    "            # select all samples with days within (dmax - train_days)\n",
    "            mask = daystamp >= np.max(daystamp) - self.args.train_days\n",
    "            print(daystamp[mask])\n",
    "            self._filter_all_data_by_mask(mask, flag, 'train_days')\n",
    "        if self.args.confidence_interval_bottom:\n",
    "            col_idx = self.args.v_par_eval.index(self.args.confidence_interval_bottom)\n",
    "            col_idx = self.args.v_par_eval.index(self.args.confidence_interval_bottom)\n",
    "            mask = self.v_par_eval[:, col_idx].astype(bool)\n",
    "            self._filter_all_data_by_mask(mask, flag, \\\n",
    "                'confidence interval (bottom) ' + self.args.confidence_interval_bottom)\n",
    "        if self.args.confidence_interval_top:\n",
    "            col_idx = self.args.v_par_eval.index(self.args.confidence_interval_top)\n",
    "            col_idx = self.args.v_par_eval.index(self.args.confidence_interval_top)\n",
    "            mask = self.v_par_eval[:, col_idx].astype(bool)\n",
    "            mask = ~mask # *exclude* the samples exceeding the top confidence interval\n",
    "            self._filter_all_data_by_mask(mask, flag, \\\n",
    "                'confidence interval (top) ' + self.args.confidence_interval_top)\n",
    "        if self.args.accept_reject:\n",
    "            if flag=='train':\n",
    "                alpha = self.args.accept_reject[0]\n",
    "                window = int(self.args.accept_reject[1])\n",
    "                mask = cutils.accept_reject(self.y, alpha, window)\n",
    "                self._filter_all_data_by_mask(mask, flag, 'accept reject')\n",
    "        if self.args.transform_target: # careful to transform only after cutting confidence intervals!\n",
    "            print('Power transform with scale = ', self.args.transform_target_scale)\n",
    "            y_tmp = mat.power_transform(self.y, self.args.transform_target_scale)\n",
    "            self.y = y_tmp\n",
    "\n",
    "            self.y -= self.args.transform_target_mean\n",
    "            self.y /= self.args.transform_target_std\n",
    "            print('Transformed target:')\n",
    "            print('Mean', np.mean(self.y))\n",
    "            print('Std', np.std(self.y))\n",
    "\n",
    "        print(f'loading and transforming all {flag} data in memory took {time.time() - start_time:.2f}s')\n",
    "        print(f'{flag} input data: {self.X.shape} ({self.X.nbytes // 1e6}MB)')\n",
    "        print(f'{flag} labels: {self.y.shape} ({self.y.nbytes // 1e6}MB)')\n",
    "\n",
    "    def _filter_all_data_by_mask(self, mask, flag, name=''):\n",
    "        self.X, self.y = self.X[mask], self.y[mask]\n",
    "        if len(self.v_par) > 0:\n",
    "            self.v_par = self.v_par[mask]\n",
    "        if len(self.v_par_eval) > 0:\n",
    "            self.v_par_eval = self.v_par_eval[mask]\n",
    "        print(f'{flag} input data after {name} downsampling: {self.X.shape} ({self.X.nbytes // 1e6}MB)')\n",
    "\n",
    "    def __len__(self):\n",
    "        return self.X.shape[0]\n",
    "\n",
    "    def __getitem__(self, idx):\n",
    "        X = self.X[idx]\n",
    "        if len(self.v_par) > 0:\n",
    "            X = (X, self.v_par[idx])\n",
    "        y = self.y[idx]\n",
    "#        if self.args.auxiliary_loss_rain:\n",
    "#            y_aux = self.v_par_eval[idx, self.args.v_par_eval.index('GPM_precipitation')]\n",
    "#            y = (y, y_aux)\n",
    "        return (X, y)\n"
   ]
  },
  {
   "cell_type": "code",
   "execution_count": 16,
   "id": "e8422716",
   "metadata": {
    "scrolled": true
   },
   "outputs": [
    {
     "name": "stdout",
     "output_type": "stream",
     "text": [
      "\n",
      "timestamp of test data: 2021-10-19 09:45:33.788647\n",
      "loading test data into memory...\r\n",
      "normalizing test data\n",
      "* brcs after normalization: mean=1.91e-01 / std = 1.27e+00\n",
      "* eff_scatter after normalization: mean=1.69e-01 / std = 1.28e+00\n",
      "* power_analog after normalization: mean=-1.82e-01 / std = 6.05e-01\n",
      "* raw_counts after normalization: mean=-3.20e-01 / std = 5.89e-01\n",
      "* ddm_nbrcs after normalization: mean=2.08e-01 / std = 9.65e-01\n",
      "* ddm_les after normalization: mean=2.13e-01 / std = 9.04e-01\n",
      "* gps_eirp after normalization: mean=-5.66e-01 / std = 4.81e-01\n",
      "* lna_temp_nadir_port after normalization: mean=1.70e+00 / std = 6.44e-01\n",
      "* lna_temp_nadir_starboard after normalization: mean=1.45e+00 / std = 6.16e-01\n",
      "* lna_temp_zenith after normalization: mean=1.04e+00 / std = 8.77e-01\n",
      "* sc_roll after normalization: mean=-5.86e-01 / std = 5.58e-02\n",
      "* sc_yaw after normalization: mean=-1.50e+00 / std = 2.49e+00\n",
      "* sp_az_body after normalization: mean=-2.05e-01 / std = 9.20e-01\n",
      "* sp_az_orbit after normalization: mean=-2.00e-01 / std = 9.00e-01\n",
      "* sp_rx_gain after normalization: mean=-2.61e-01 / std = 8.31e-01\n",
      "* sp_theta_body after normalization: mean=3.24e-01 / std = 1.21e+00\n",
      "* tx_pos_x after normalization: mean=1.08e+00 / std = 6.96e-01\n",
      "* tx_pos_y after normalization: mean=1.06e-01 / std = 7.84e-01\n",
      "* tx_pos_z after normalization: mean=-5.05e-01 / std = 7.88e-01\n",
      "* tx_vel_x after normalization: mean=-4.09e-01 / std = 1.04e+00\n",
      "* tx_vel_y after normalization: mean=5.57e-01 / std = 7.99e-01\n",
      "* tx_vel_z after normalization: mean=2.88e-01 / std = 9.47e-01\n",
      "* zenith_sig_i2q2 after normalization: mean=-7.79e-01 / std = 5.43e-01\n",
      "* ddm_snr after normalization: mean=-3.60e-01 / std = 6.91e-01\n",
      "* gps_off_boresight_angle_deg after normalization: mean=3.75e-01 / std = 1.20e+00\n",
      "* rx_clk_bias_rate after normalization: mean=1.68e-01 / std = 1.30e+00\n",
      "* sp_ddmi_dopp after normalization: mean=-3.09e-01 / std = 7.85e-01\n",
      "test input data after min_wind_speed downsampling: (7911, 4, 17, 11) (23.0MB)\n",
      "test input data after confidence interval (bottom) ddm_nbrcs_exceeds_alpha_0.975 downsampling: (7902, 4, 17, 11) (23.0MB)\n",
      "test input data after confidence interval (top) ddm_nbrcs_exceeds_alpha_0.025 downsampling: (7729, 4, 17, 11) (23.0MB)\n",
      "loading and transforming all test data in memory took 0.12s\n",
      "test input data: (7729, 4, 17, 11) (23.0MB)\n",
      "test labels: (7729,) (0.0MB)\n"
     ]
    },
    {
     "data": {
      "text/plain": [
       "<__main__.CyGNSSDataset at 0x7fa7aca19d50>"
      ]
     },
     "execution_count": 16,
     "metadata": {},
     "output_type": "execute_result"
    }
   ],
   "source": [
    "CyGNSSDataset('test', args)"
   ]
  },
  {
   "cell_type": "code",
   "execution_count": 17,
   "id": "fd380e51",
   "metadata": {},
   "outputs": [],
   "source": [
    "class CyGNSSDataModule(pl.LightningDataModule):\n",
    "    \"\"\" Lightning data module for CyGNSS data \"\"\"\n",
    "\n",
    "    def __init__(self, args):\n",
    "        super().__init__()\n",
    "        self.args = args\n",
    "\n",
    "    def prepare_data(self, args):\n",
    "        '''Use this method to do things that might write to disk or that need to be done \n",
    "        only from a single process in distributed settings.'''\n",
    "        pass\n",
    "\n",
    "    def setup(self, stage = None):\n",
    "        '''\n",
    "        Data operations performed on every GPU\n",
    "\n",
    "        setup() expects an stage: Optional[str] argument. It is used to separate setup logic \n",
    "        for trainer.{fit,validate,test}. If setup is called with stage = None, we assume all \n",
    "        stages have been set-up.\n",
    "\n",
    "        Creates self.{train_data, valid_data, test_data} depending on 'stage' (CyGNSSDataset)\n",
    "        '''\n",
    "\n",
    "        if stage in (None, 'fit'):\n",
    "            self.train_data = CyGNSSDataset('train', self.args)\n",
    "            self.valid_data = CyGNSSDataset('valid', self.args)\n",
    "        if stage in (None, 'test'):\n",
    "            self.test_data = CyGNSSDataset('test', self.args)\n",
    "\n",
    "    def train_dataloader(self):\n",
    "        return DataLoader(self.train_data, batch_size=self.args.batch_size, \n",
    "                          num_workers=self.args.num_workers, shuffle=True, drop_last=True)\n",
    "\n",
    "    def val_dataloader(self):\n",
    "        return DataLoader(self.valid_data, batch_size=self.args.test_batch_size, \n",
    "                          num_workers=self.args.num_workers, shuffle=False, drop_last=False)\n",
    "\n",
    "    def test_dataloader(self):\n",
    "        return DataLoader(self.test_data, batch_size=self.args.test_batch_size, \n",
    "                          num_workers=self.args.num_workers, shuffle=False, drop_last=False)\n",
    "\n",
    "    def predict_dataloader(self, args): # predicts on test set\n",
    "        return DataLoader(self.test_data, batch_size=self.args.test_batch_size, \n",
    "                          num_workers=self.args.num_workers, shuffle=False, drop_last=False)\n",
    "\n",
    "    def get_input_shapes(self, stage = None):\n",
    "        if stage in (None, 'fit'):\n",
    "            shape_data = self.train_data\n",
    "        if stage == 'test':\n",
    "            shape_data = self.test_data \n",
    "\n",
    "\n",
    "        if isinstance(shape_data[0][0], tuple):\n",
    "            input_shapes = tuple(input_.shape for input_ in shape_data[0][0])\n",
    "        else:\n",
    "            input_shapes = shape_data[0][0].shape,\n",
    "        return input_shapes\n",
    "\n",
    "    @staticmethod\n",
    "    def add_dataloader_specific_args(parent_parser):\n",
    "        parser = argparse.ArgumentParser(parents=[parent_parser], add_help=False)\n",
    "        parser.add_argument('--log-transform-rain', action='store_true')\n",
    "        parser.add_argument('--transform-target', action='store_true', \n",
    "                            help='Transform labels to normal distribution (experimental)')\n",
    "        parser.add_argument('--confidence-interval-bottom', type=str, default='',\n",
    "                            help='remove all samples below this threshold')\n",
    "        parser.add_argument('--confidence-interval-top', type=str, default='',\n",
    "                            help='remove all samples above this threshold')\n",
    "        parser.add_argument('--min-wind-speed', type=float, default=0.0)\n",
    "        parser.add_argument('--train-days', type=float, default=np.inf)\n",
    "        parser.add_argument('--min-samples-in-sequence', type=int, default=1, \n",
    "                            help='Minimum samples for sequence to be considered in averaged dataset.')\n",
    "        parser.add_argument('--num-workers', type=int, default=1, help='dataloader processes')\n",
    "        parser.add_argument('--accept-reject', type=float, nargs=2, \n",
    "                            help='alpha+window for gfz_202003.utils.cygnss_utils.accept_reject') \n",
    "        return parser\n",
    "\n",
    "    def print_all_quantile_losses(self, y_pred, dataloader):\n",
    "        def print_quantile_losses(name, losses, quantiles):\n",
    "            quantile_losses_str = ', '.join([f'{l:.2f}' for l in losses])\n",
    "            quantiles_str = ', '.join([f'{q:.2f}' for q in quantiles])\n",
    "            print(f'\\nlosses by {name} quantile: {quantile_losses_str}\\nwith quantiles: {quantiles_str}')\n",
    "\n",
    "        def print_quantile_losses_2d(name1, name2, losses, quantiles1, quantiles2, sizes):\n",
    "            print(f'\\n2d quantile losses for {name1}+{name2} (rows are per quantile of {name1}):')\n",
    "            for loss_row in losses:\n",
    "                print(', '.join([f'{l:.2f}' for l in loss_row]))\n",
    "            print('\\nwith sizes:')\n",
    "            for size_row in sizes:\n",
    "                print(', '.join([f'{s}' for s in size_row]))\n",
    "            print()\n",
    "            quantiles_strs = [', '.join([f'{q:.2f}' for q in quantiles]) for quantiles in [quantiles1, quantiles2]]\n",
    "            print(f'with {name1} quantiles: {quantiles_strs[0]}')\n",
    "            print(f'with {name2} quantiles: {quantiles_strs[1]}')\n",
    "            print()\n",
    "\n",
    "        y_true = dataloader.dataset.y\n",
    "\n",
    "        print(f'Note: quantile losses always report MSE. Loss_fn was {self.args.loss}\\n')\n",
    "\n",
    "\n",
    "        quantile_losses, quantiles = mat.losses_by_quantiles(y_true, y_true, y_pred, self.args.n_quantiles)\n",
    "        print_quantile_losses('y_true', quantile_losses, quantiles)\n",
    "\n",
    "        for v_par in self.args.v_par_eval:\n",
    "            col_idx = self.args.v_par_eval.index(v_par)\n",
    "            arr = dataloader.dataset.v_par_eval[:, col_idx]\n",
    "            quantile_losses, quantiles = mat.losses_by_quantiles(arr, y_true, y_pred,\n",
    "                                                                 self.args.n_quantiles)\n",
    "            print_quantile_losses(v_par, quantile_losses, quantiles)\n",
    "\n",
    "        for v_par_2d in self.args.v_par_eval_2d:\n",
    "            names = v_par_2d.split('+')\n",
    "            col_idxs = [self.args.v_par_eval.index(name) for name in names]\n",
    "            arrs = [dataloader.dataset.v_par_eval[:, col_idx] for col_idx in col_idxs]\n",
    "            if 'GPM_precipitation' in names:\n",
    "                # filter samples with rain > 0 if given\n",
    "                mask = arrs[names.index('GPM_precipitation')] > 0.0\n",
    "                arr1, arr2 = [arr[mask] for arr in arrs]\n",
    "                y_true, y_pred = y_true[mask], y_pred[mask]\n",
    "            quantile_losses, quantiles1, quantiles2, sizes = mat.losses_by_quantiles_2d(arr1, arr2, y_true, y_pred, 10)\n",
    "            print_quantile_losses_2d(names[0], names[1], quantile_losses, quantiles1, quantiles2, sizes)\n"
   ]
  },
  {
   "cell_type": "code",
   "execution_count": 18,
   "id": "8456deaa",
   "metadata": {},
   "outputs": [
    {
     "name": "stdout",
     "output_type": "stream",
     "text": [
      "\n",
      "timestamp of test data: 2021-10-19 09:45:33.788647\n",
      "loading test data into memory...\r\n",
      "normalizing test data\n",
      "* brcs after normalization: mean=1.91e-01 / std = 1.27e+00\n",
      "* eff_scatter after normalization: mean=1.69e-01 / std = 1.28e+00\n",
      "* power_analog after normalization: mean=-1.82e-01 / std = 6.05e-01\n",
      "* raw_counts after normalization: mean=-3.20e-01 / std = 5.89e-01\n",
      "* ddm_nbrcs after normalization: mean=2.08e-01 / std = 9.65e-01\n",
      "* ddm_les after normalization: mean=2.13e-01 / std = 9.04e-01\n",
      "* gps_eirp after normalization: mean=-5.66e-01 / std = 4.81e-01\n",
      "* lna_temp_nadir_port after normalization: mean=1.70e+00 / std = 6.44e-01\n",
      "* lna_temp_nadir_starboard after normalization: mean=1.45e+00 / std = 6.16e-01\n",
      "* lna_temp_zenith after normalization: mean=1.04e+00 / std = 8.77e-01\n",
      "* sc_roll after normalization: mean=-5.86e-01 / std = 5.58e-02\n",
      "* sc_yaw after normalization: mean=-1.50e+00 / std = 2.49e+00\n",
      "* sp_az_body after normalization: mean=-2.05e-01 / std = 9.20e-01\n",
      "* sp_az_orbit after normalization: mean=-2.00e-01 / std = 9.00e-01\n",
      "* sp_rx_gain after normalization: mean=-2.61e-01 / std = 8.31e-01\n",
      "* sp_theta_body after normalization: mean=3.24e-01 / std = 1.21e+00\n",
      "* tx_pos_x after normalization: mean=1.08e+00 / std = 6.96e-01\n",
      "* tx_pos_y after normalization: mean=1.06e-01 / std = 7.84e-01\n",
      "* tx_pos_z after normalization: mean=-5.05e-01 / std = 7.88e-01\n",
      "* tx_vel_x after normalization: mean=-4.09e-01 / std = 1.04e+00\n",
      "* tx_vel_y after normalization: mean=5.57e-01 / std = 7.99e-01\n",
      "* tx_vel_z after normalization: mean=2.88e-01 / std = 9.47e-01\n",
      "* zenith_sig_i2q2 after normalization: mean=-7.79e-01 / std = 5.43e-01\n",
      "* ddm_snr after normalization: mean=-3.60e-01 / std = 6.91e-01\n",
      "* gps_off_boresight_angle_deg after normalization: mean=3.75e-01 / std = 1.20e+00\n",
      "* rx_clk_bias_rate after normalization: mean=1.68e-01 / std = 1.30e+00\n",
      "* sp_ddmi_dopp after normalization: mean=-3.09e-01 / std = 7.85e-01\n",
      "test input data after min_wind_speed downsampling: (7911, 4, 17, 11) (23.0MB)\n",
      "test input data after confidence interval (bottom) ddm_nbrcs_exceeds_alpha_0.975 downsampling: (7902, 4, 17, 11) (23.0MB)\n",
      "test input data after confidence interval (top) ddm_nbrcs_exceeds_alpha_0.025 downsampling: (7729, 4, 17, 11) (23.0MB)\n",
      "loading and transforming all test data in memory took 0.11s\n",
      "test input data: (7729, 4, 17, 11) (23.0MB)\n",
      "test labels: (7729,) (0.0MB)\n"
     ]
    }
   ],
   "source": [
    "cdm = CyGNSSDataModule(args)\n",
    "cdm.setup(stage='test')\n",
    "input_shapes = cdm.get_input_shapes(stage='test')"
   ]
  },
  {
   "cell_type": "code",
   "execution_count": 19,
   "id": "6205fbba",
   "metadata": {},
   "outputs": [],
   "source": [
    "if checkpoint['hyper_parameters'][\"model\"]=='cnn':\n",
    "    backbone = ImageNet(args, input_shapes)\n",
    "elif checkpoint_args.model=='dense':\n",
    "    backbone = DenseNet(args, input_shapes)"
   ]
  },
  {
   "cell_type": "code",
   "execution_count": 20,
   "id": "8075ec1b",
   "metadata": {},
   "outputs": [],
   "source": [
    "model = CyGNSSNet.load_from_checkpoint(os.path.join(path, model),\n",
    "                                      map_location=torch.device(\"cpu\"),\n",
    "                                      args=args,\n",
    "                                      backbone=backbone)"
   ]
  },
  {
   "cell_type": "code",
   "execution_count": 21,
   "id": "da82123b",
   "metadata": {},
   "outputs": [
    {
     "data": {
      "text/plain": [
       "CyGNSSNet(\n",
       "  (backbone): ImageNet(\n",
       "    (cv1): Conv2d(4, 32, kernel_size=(3, 3), stride=(1, 1), padding=(1, 1))\n",
       "    (bn1): BatchNorm2d(32, eps=1e-05, momentum=0.1, affine=True, track_running_stats=True)\n",
       "    (hidden): ModuleList(\n",
       "      (0): Conv2d(32, 32, kernel_size=(3, 3), stride=(1, 1), padding=(1, 1))\n",
       "      (1): BatchNorm2d(32, eps=1e-05, momentum=0.1, affine=True, track_running_stats=True)\n",
       "      (2): Conv2d(32, 64, kernel_size=(3, 3), stride=(1, 1), padding=(1, 1))\n",
       "      (3): BatchNorm2d(64, eps=1e-05, momentum=0.1, affine=True, track_running_stats=True)\n",
       "      (4): Conv2d(64, 64, kernel_size=(3, 3), stride=(1, 1), padding=(1, 1))\n",
       "      (5): BatchNorm2d(64, eps=1e-05, momentum=0.1, affine=True, track_running_stats=True)\n",
       "      (6): MaxPool2d(kernel_size=2, stride=2, padding=0, dilation=1, ceil_mode=False)\n",
       "      (7): Conv2d(64, 128, kernel_size=(3, 3), stride=(1, 1), padding=(1, 1))\n",
       "      (8): BatchNorm2d(128, eps=1e-05, momentum=0.1, affine=True, track_running_stats=True)\n",
       "      (9): Conv2d(128, 128, kernel_size=(3, 3), stride=(1, 1), padding=(1, 1))\n",
       "      (10): BatchNorm2d(128, eps=1e-05, momentum=0.1, affine=True, track_running_stats=True)\n",
       "      (11): Conv2d(128, 256, kernel_size=(3, 3), stride=(1, 1), padding=(1, 1))\n",
       "      (12): BatchNorm2d(256, eps=1e-05, momentum=0.1, affine=True, track_running_stats=True)\n",
       "      (13): Conv2d(256, 256, kernel_size=(3, 3), stride=(1, 1), padding=(1, 1))\n",
       "      (14): BatchNorm2d(256, eps=1e-05, momentum=0.1, affine=True, track_running_stats=True)\n",
       "      (15): MaxPool2d(kernel_size=2, stride=2, padding=0, dilation=1, ceil_mode=False)\n",
       "    )\n",
       "    (fc_v_par): Linear(in_features=23, out_features=160, bias=True)\n",
       "    (dr_v_par): Dropout(p=0.2, inplace=False)\n",
       "    (fc1): Linear(in_features=2208, out_features=12, bias=True)\n",
       "    (dr_fc1): Dropout(p=0.12, inplace=False)\n",
       "    (fc2): Linear(in_features=12, out_features=40, bias=True)\n",
       "    (dr_fc2): Dropout(p=0.1, inplace=False)\n",
       "    (fc_final): Linear(in_features=40, out_features=1, bias=True)\n",
       "  )\n",
       ")"
      ]
     },
     "execution_count": 21,
     "metadata": {},
     "output_type": "execute_result"
    }
   ],
   "source": [
    "model.eval()"
   ]
  },
  {
   "cell_type": "markdown",
   "id": "45118099",
   "metadata": {},
   "source": [
    "# Apply the Model"
   ]
  },
  {
   "cell_type": "code",
   "execution_count": 46,
   "id": "9a506aeb",
   "metadata": {},
   "outputs": [
    {
     "name": "stderr",
     "output_type": "stream",
     "text": [
      "GPU available: False, used: False\n",
      "TPU available: False, using: 0 TPU cores\n",
      "IPU available: False, using: 0 IPUs\n",
      "HPU available: False, using: 0 HPUs\n",
      "The following callbacks returned in `LightningModule.configure_callbacks` will override existing callbacks passed to Trainer: ModelCheckpoint\n"
     ]
    }
   ],
   "source": [
    "test_loader = cdm.test_dataloader()\n",
    "trainer = pl.Trainer(#weights_summary='full', \n",
    "                    #num_sanity_val_steps=0, \n",
    "                    #gpus=int(torch.cuda.is_available()),\n",
    "                    enable_progress_bar=False)\n",
    "\n",
    "#trainer.test(model=model, test_dataloaders=test_loader)\n",
    "y_pred = trainer.predict(model=model, dataloaders=[test_loader])\n",
    "y_pred = torch.cat(y_pred).detach().cpu().numpy().squeeze()"
   ]
  },
  {
   "cell_type": "code",
   "execution_count": 47,
   "id": "a48bd0c6",
   "metadata": {},
   "outputs": [
    {
     "data": {
      "text/plain": [
       "array([8.03745  , 9.155466 , 6.4046926, ..., 6.3773756, 6.0596523,\n",
       "       6.4005737], dtype=float32)"
      ]
     },
     "execution_count": 47,
     "metadata": {},
     "output_type": "execute_result"
    }
   ],
   "source": [
    "y_pred"
   ]
  },
  {
   "cell_type": "code",
   "execution_count": 48,
   "id": "ec955da8",
   "metadata": {},
   "outputs": [
    {
     "data": {
      "text/plain": [
       "(7729,)"
      ]
     },
     "execution_count": 48,
     "metadata": {},
     "output_type": "execute_result"
    }
   ],
   "source": [
    "y_pred.shape"
   ]
  },
  {
   "cell_type": "code",
   "execution_count": 59,
   "id": "bdbd68a7",
   "metadata": {},
   "outputs": [
    {
     "name": "stdout",
     "output_type": "stream",
     "text": [
      "\n",
      "timestamp of test data: 2021-10-19 09:45:33.788647\n",
      "loading test data into memory...\r\n",
      "normalizing test data\n",
      "* brcs after normalization: mean=1.91e-01 / std = 1.27e+00\n",
      "* eff_scatter after normalization: mean=1.69e-01 / std = 1.28e+00\n",
      "* power_analog after normalization: mean=-1.82e-01 / std = 6.05e-01\n",
      "* raw_counts after normalization: mean=-3.20e-01 / std = 5.89e-01\n",
      "* ddm_nbrcs after normalization: mean=2.08e-01 / std = 9.65e-01\n",
      "* ddm_les after normalization: mean=2.13e-01 / std = 9.04e-01\n",
      "* gps_eirp after normalization: mean=-5.66e-01 / std = 4.81e-01\n",
      "* lna_temp_nadir_port after normalization: mean=1.70e+00 / std = 6.44e-01\n",
      "* lna_temp_nadir_starboard after normalization: mean=1.45e+00 / std = 6.16e-01\n",
      "* lna_temp_zenith after normalization: mean=1.04e+00 / std = 8.77e-01\n",
      "* sc_roll after normalization: mean=-5.86e-01 / std = 5.58e-02\n",
      "* sc_yaw after normalization: mean=-1.50e+00 / std = 2.49e+00\n",
      "* sp_az_body after normalization: mean=-2.05e-01 / std = 9.20e-01\n",
      "* sp_az_orbit after normalization: mean=-2.00e-01 / std = 9.00e-01\n",
      "* sp_rx_gain after normalization: mean=-2.61e-01 / std = 8.31e-01\n",
      "* sp_theta_body after normalization: mean=3.24e-01 / std = 1.21e+00\n",
      "* tx_pos_x after normalization: mean=1.08e+00 / std = 6.96e-01\n",
      "* tx_pos_y after normalization: mean=1.06e-01 / std = 7.84e-01\n",
      "* tx_pos_z after normalization: mean=-5.05e-01 / std = 7.88e-01\n",
      "* tx_vel_x after normalization: mean=-4.09e-01 / std = 1.04e+00\n",
      "* tx_vel_y after normalization: mean=5.57e-01 / std = 7.99e-01\n",
      "* tx_vel_z after normalization: mean=2.88e-01 / std = 9.47e-01\n",
      "* zenith_sig_i2q2 after normalization: mean=-7.79e-01 / std = 5.43e-01\n",
      "* ddm_snr after normalization: mean=-3.60e-01 / std = 6.91e-01\n",
      "* gps_off_boresight_angle_deg after normalization: mean=3.75e-01 / std = 1.20e+00\n",
      "* rx_clk_bias_rate after normalization: mean=1.68e-01 / std = 1.30e+00\n",
      "* sp_ddmi_dopp after normalization: mean=-3.09e-01 / std = 7.85e-01\n",
      "test input data after min_wind_speed downsampling: (7911, 4, 17, 11) (23.0MB)\n",
      "test input data after confidence interval (bottom) ddm_nbrcs_exceeds_alpha_0.975 downsampling: (7902, 4, 17, 11) (23.0MB)\n",
      "test input data after confidence interval (top) ddm_nbrcs_exceeds_alpha_0.025 downsampling: (7729, 4, 17, 11) (23.0MB)\n",
      "loading and transforming all test data in memory took 0.11s\n",
      "test input data: (7729, 4, 17, 11) (23.0MB)\n",
      "test labels: (7729,) (0.0MB)\n"
     ]
    }
   ],
   "source": [
    "dataset = CyGNSSDataset('test', args)"
   ]
  },
  {
   "cell_type": "code",
   "execution_count": 76,
   "id": "a7ef0d1e",
   "metadata": {},
   "outputs": [],
   "source": [
    "y = dataset.y"
   ]
  },
  {
   "cell_type": "code",
   "execution_count": 78,
   "id": "2965bfb5",
   "metadata": {},
   "outputs": [
    {
     "data": {
      "image/png": "[encoded data removed]",
      "text/plain": [
       "<Figure size 432x288 with 1 Axes>"
      ]
     },
     "metadata": {
      "needs_background": "light"
     },
     "output_type": "display_data"
    }
   ],
   "source": [
    "import matplotlib.pyplot as plt\n",
    "\n",
    "plt.scatter(y, y_pred);"
   ]
  },
  {
   "cell_type": "markdown",
   "id": "5609653d",
   "metadata": {},
   "source": [
    "# Save to Database"
   ]
  },
  {
   "cell_type": "code",
   "execution_count": 120,
   "id": "1fa47200",
   "metadata": {},
   "outputs": [],
   "source": [
    "import sqlite3\n",
    "from sqlite3 import Error"
   ]
  },
  {
   "cell_type": "code",
   "execution_count": 153,
   "id": "15c59f32",
   "metadata": {},
   "outputs": [],
   "source": [
    "def create_connection(path):\n",
    "    '''\n",
    "    sqlite3.connect(path) returns a connection object, which is in turn returned by create_connection(). \n",
    "    This connection object can be used to execute queries on an SQLite database.\n",
    "    '''\n",
    "    connection = None\n",
    "    try:\n",
    "        # If the database exists at the specified location (path), then a connection to the database is established.\n",
    "        connection = sqlite3.connect(path)\n",
    "        print(\"Connection to SQLite DB succesful\")\n",
    "    except Error as e:\n",
    "        print(f\"The error '{e}' occured\")\n",
    "\n",
    "    return connection"
   ]
  },
  {
   "cell_type": "code",
   "execution_count": 154,
   "id": "1d378437",
   "metadata": {},
   "outputs": [
    {
     "name": "stdout",
     "output_type": "stream",
     "text": [
      "Connection to SQLite DB succesful\n"
     ]
    }
   ],
   "source": [
    "connection = create_connection(\"../cycnss_test_frauke.sqlite\")\n",
    "cursor = connection.cursor()"
   ]
  },
  {
   "cell_type": "code",
   "execution_count": 155,
   "id": "d935285f",
   "metadata": {},
   "outputs": [],
   "source": [
    "create_users_table = \"\"\"\n",
    "CREATE TABLE IF NOT EXISTS windspeed_pred (\n",
    "  id INTEGER PRIMARY KEY AUTOINCREMENT,\n",
    "  windspeed REAL\n",
    ");\n",
    "\"\"\"\n",
    "cursor.execute(create_users_table)  \n",
    "connection.commit()"
   ]
  },
  {
   "cell_type": "code",
   "execution_count": 156,
   "id": "83844f60",
   "metadata": {},
   "outputs": [
    {
     "data": {
      "text/plain": [
       "8.03745"
      ]
     },
     "execution_count": 156,
     "metadata": {},
     "output_type": "execute_result"
    }
   ],
   "source": [
    "y_pred[0]"
   ]
  },
  {
   "cell_type": "code",
   "execution_count": 157,
   "id": "8c642421",
   "metadata": {},
   "outputs": [],
   "source": [
    "cursor.execute(\"INSERT INTO windspeed_pred (windspeed) VALUES (?);\", (float(y_pred[0]),)) \n",
    "connection.commit()"
   ]
  },
  {
   "cell_type": "code",
   "execution_count": 158,
   "id": "9f1ec7d3",
   "metadata": {},
   "outputs": [],
   "source": [
    "read_data = \"\"\"SELECT * FROM windspeed_pred\"\"\"\n",
    "cursor = connection.cursor()\n",
    "result = cursor.execute(read_data)"
   ]
  },
  {
   "cell_type": "code",
   "execution_count": 159,
   "id": "78233bff",
   "metadata": {},
   "outputs": [
    {
     "data": {
      "text/plain": [
       "[(1, 8.037449836730957)]"
      ]
     },
     "execution_count": 159,
     "metadata": {},
     "output_type": "execute_result"
    }
   ],
   "source": [
    "result.fetchall()"
   ]
  },
  {
   "cell_type": "code",
   "execution_count": null,
   "id": "77eb739b",
   "metadata": {},
   "outputs": [],
   "source": [
    "# Wich columns should be in the database?"
   ]
  }
 ],
 "metadata": {
  "kernelspec": {
   "display_name": "cygnss-deploy",
   "language": "python",
   "name": "cygnss-deploy"
  },
  "language_info": {
   "codemirror_mode": {
    "name": "ipython",
    "version": 3
   },
   "file_extension": ".py",
   "mimetype": "text/x-python",
   "name": "python",
   "nbconvert_exporter": "python",
   "pygments_lexer": "ipython3",
   "version": "3.10.4"
  }
 },
 "nbformat": 4,
 "nbformat_minor": 5
}
