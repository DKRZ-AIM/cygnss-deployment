{
 "cells": [
  {
   "cell_type": "code",
   "execution_count": null,
   "id": "6189727d-4f56-49fc-b2f0-b642097206b3",
   "metadata": {},
   "outputs": [],
   "source": [
    "import h5py\n",
    "from matplotlib import pyplot as plt\n",
    "from matplotlib import lines, colors, ticker\n",
    "import seaborn as sns\n",
    "import numpy as np\n",
    "import pandas as pd\n",
    "\n",
    "from sklearn.metrics import mean_squared_error\n",
    "\n",
    "import sys\n",
    "sys.path.append('../externals/gfz_cygnss/')\n",
    "import gfz_202003.utils.mathematics as mat"
   ]
  },
  {
   "cell_type": "code",
   "execution_count": null,
   "id": "dcf836dd-cf50-43af-bd72-34f151b9b006",
   "metadata": {},
   "outputs": [],
   "source": [
    "f_pred = h5py.File('/work/ka1176/caroline/gitlab/cygnss-deployment/prediction/current_predictions.h5', 'r')"
   ]
  },
  {
   "cell_type": "code",
   "execution_count": null,
   "id": "ac9c112a-931d-46e4-9e54-bf8fa164ed9a",
   "metadata": {},
   "outputs": [],
   "source": [
    "f_pred.keys()"
   ]
  },
  {
   "cell_type": "code",
   "execution_count": null,
   "id": "44e45c03-df95-4b80-868d-ebc01a1d6642",
   "metadata": {},
   "outputs": [],
   "source": [
    "y_true = f_pred['y_true'][:]\n",
    "y_pred = f_pred['y_pred'][:]\n",
    "sp_lon = f_pred['sp_lon'][:]\n",
    "sp_lat = f_pred['sp_lat'][:]"
   ]
  },
  {
   "cell_type": "code",
   "execution_count": null,
   "id": "479629bd-1a80-46fb-af33-e806db8be955",
   "metadata": {},
   "outputs": [],
   "source": [
    "rmse = mean_squared_error(y_true, y_pred, squared=False)\n",
    "\n",
    "print(f'Overall root mean square error (RMSE): {rmse:.4f} m/s')"
   ]
  },
  {
   "cell_type": "code",
   "execution_count": null,
   "id": "88ef8364-a0b7-4c92-a9b2-2d1485a4c54d",
   "metadata": {},
   "outputs": [],
   "source": [
    "y_bins = [4, 8, 12, 16, 20, 100]\n",
    "y_ix   = np.digitize(y_true, y_bins, right=False)\n",
    "\n",
    "all_rmse = np.zeros(len(y_bins))\n",
    "all_bias = np.zeros(len(y_bins))\n",
    "all_counts = np.zeros(len(y_bins))"
   ]
  },
  {
   "cell_type": "code",
   "execution_count": null,
   "id": "794d4be3-e785-4c9a-ac2b-bd5eb7ad795e",
   "metadata": {},
   "outputs": [],
   "source": [
    "for i, yy in enumerate(y_bins):\n",
    "    if np.any(y_ix==i):\n",
    "        rmse = mean_squared_error(y_true[y_ix==i], y_pred[y_ix==i], squared=False)\n",
    "        all_rmse[i] = rmse\n",
    "        all_bias[i] = np.mean(y_pred[y_ix==i] - y_true[y_ix==i])\n",
    "        all_counts[i] = np.sum(y_ix==i)\n",
    "        print(f'RMSE in bin {i} (up to {yy} m/s): {rmse:.4f} m/s')\n",
    "    else:\n",
    "        all_rmse[i] = None\n",
    "        all_bias[i] = None\n",
    "        all_counts[i] = 0\n",
    "        print(f\"--- No samples in bin {i} (up to {yy} m/s)\")\n",
    "        \n",
    "df_rmse = pd.DataFrame(dict(rmse=all_rmse, bias=all_bias, bins=y_bins, counts=all_counts))"
   ]
  },
  {
   "cell_type": "code",
   "execution_count": null,
   "id": "718f101f-8c42-4ade-9d5c-e0650490ca9b",
   "metadata": {},
   "outputs": [],
   "source": []
  },
  {
   "cell_type": "code",
   "execution_count": null,
   "id": "9512aff8-2d0f-48a7-944d-8fa9e0c9cbf0",
   "metadata": {},
   "outputs": [],
   "source": [
    "sns.set_style('whitegrid')\n",
    "sns.set_context('talk')"
   ]
  },
  {
   "cell_type": "code",
   "execution_count": null,
   "id": "f7281124-4ae0-4075-a0f4-5cc526144e36",
   "metadata": {},
   "outputs": [],
   "source": [
    "fig=plt.figure()\n",
    "ax=fig.add_subplot(111)\n",
    "\n",
    "sns.histplot(y_true, ax=ax, color='C7', label='ERA5 wind speed (m/s)')\n",
    "sns.histplot(y_pred, ax=ax, color='C2', label='Predicted wind speed (m/s)')\n",
    "\n",
    "ax.legend(fontsize=12)\n",
    "\n",
    "ax.set_xticks([5, 10, 15, 20, 25])\n",
    "ax.set_xticklabels([5, 10, 15, 20, 25])\n",
    "ax.set_xlabel('ERA5 wind speed (m/s)')\n",
    "\n",
    "plt.show()"
   ]
  },
  {
   "cell_type": "code",
   "execution_count": null,
   "id": "bdf3083d-4881-4552-9174-766235fef0a6",
   "metadata": {},
   "outputs": [],
   "source": [
    "ymin = 2.5\n",
    "ymax = 25.0\n",
    "\n",
    "fig=plt.figure()\n",
    "ax=fig.add_subplot(111)\n",
    "\n",
    "img=ax.hexbin(y_true, y_pred, cmap='viridis', norm=colors.LogNorm(vmin=1, vmax=25000), mincnt=1)\n",
    "clb=plt.colorbar(img)\n",
    "clb.set_ticks([1, 10, 100, 1000, 10000])\n",
    "clb.set_ticklabels([r'$1$', r'$10$', r'$10^2$', r'$10^3$', r'$10^4$'])\n",
    "clb.set_label('Samples in bin')\n",
    "clb.ax.tick_params()\n",
    "\n",
    "ax.set_xlabel('ERA5 wind speed (m/s)')\n",
    "ax.set_ylabel('Predicted wind speed (m/s)')\n",
    "\n",
    "ax.plot(np.linspace(0, 30), np.linspace(0, 30), 'r:')\n",
    "\n",
    "ax.set_ylim(ymin, 25)\n",
    "ax.set_xlim(ymin, 25)\n",
    "\n",
    "ax.set_xticks([5, 10, 15, 20, 25])\n",
    "ax.set_xticklabels([5, 10, 15, 20, 25])\n",
    "ax.set_yticks([5, 10, 15, 20, 25])\n",
    "ax.set_yticklabels([5, 10, 15, 20, 25])\n",
    "\n",
    "fig.tight_layout()"
   ]
  },
  {
   "cell_type": "code",
   "execution_count": null,
   "id": "0460d844-6142-497a-9710-312e2c3da617",
   "metadata": {},
   "outputs": [],
   "source": [
    "import cartopy.crs as ccrs\n",
    "from cartopy.mpl.ticker import LongitudeFormatter, LatitudeFormatter\n",
    "from mpl_toolkits.axes_grid1 import AxesGrid"
   ]
  },
  {
   "cell_type": "code",
   "execution_count": null,
   "id": "a2bc579a-bf63-43ba-8547-6e0173f8903c",
   "metadata": {},
   "outputs": [],
   "source": [
    "deg = 1 # grid resolution (publication: 1)\n",
    "\n",
    "xx, yy, gridded_y_true = mat.average_to_grid2(sp_lon[:], sp_lat[:], y_true[:], resolution=deg)\n",
    "xx, yy, gridded_y_pred = mat.average_to_grid2(sp_lon[:], sp_lat[:], y_pred[:], resolution=deg)\n",
    "xx, yy, gridded_rmse = mat.average_to_grid2(sp_lon[:], sp_lat[:], np.abs(y_pred[:] - y_true[:]), resolution=deg)\n",
    "xx, yy, gridded_bias = mat.average_to_grid2(sp_lon[:], sp_lat[:], y_pred[:] - y_true[:], resolution=deg)"
   ]
  },
  {
   "cell_type": "code",
   "execution_count": null,
   "id": "db6e3e4b-1127-4013-9041-27a4f74412d4",
   "metadata": {},
   "outputs": [],
   "source": [
    "grid_lon = np.arange(-180, 181, deg)\n",
    "grid_lat = np.arange(-90, 91, deg)"
   ]
  },
  {
   "cell_type": "code",
   "execution_count": null,
   "id": "2844ffa6-b5f0-4f26-b11d-1c111929b59d",
   "metadata": {},
   "outputs": [],
   "source": [
    "proj = ccrs.PlateCarree(180)\n",
    "fig, ax = plt.subplots(1, 1, figsize=(6,4), gridspec_kw=dict(hspace=0.05, wspace=0.1), subplot_kw=dict(projection=proj))\n",
    "cmap = ax.contourf(grid_lon[:], grid_lat[::-1][:], gridded_y_true[:].T, levels=60, transform=proj, antialiased=False, cmap='magma')\n",
    "ax.coastlines()\n",
    "gl = ax.gridlines(crs=proj, draw_labels=True, linewidth=0, color='gray', alpha=0.5, linestyle=':')\n",
    "gl.top_labels = False\n",
    "gl.right_labels= False\n",
    "clb = plt.colorbar(cmap, ax=ax, orientation='horizontal', shrink=1, label='Average ERA5 wind speed (m/s)')\n",
    "\n",
    "clb.set_ticks(np.arange(2.5, 18, 2.5))\n",
    "clb.ax.tick_params(labelsize=8)\n",
    "\n",
    "gl.xlabel_style = {'size': 8, 'color': 'black'}\n",
    "gl.ylabel_style = {'size': 8, 'color': 'black'}\n",
    "\n",
    "plt.show()"
   ]
  },
  {
   "cell_type": "code",
   "execution_count": null,
   "id": "e28af2cb-7400-460e-982e-f03f33ebf67c",
   "metadata": {},
   "outputs": [],
   "source": [
    "proj = ccrs.PlateCarree(180)\n",
    "fig, ax = plt.subplots(1, 1, figsize=(6,4), gridspec_kw=dict(hspace=0.05, wspace=0.1), subplot_kw=dict(projection=proj))\n",
    "cmap = ax.contourf(grid_lon[:], grid_lat[::-1][:], gridded_rmse[:].T, levels=60, transform=proj, antialiased=False, cmap='viridis')\n",
    "ax.coastlines()\n",
    "gl = ax.gridlines(crs=proj, draw_labels=True, linewidth=0, color='gray', alpha=0.5, linestyle=':')\n",
    "gl.top_labels = False\n",
    "gl.right_labels= False\n",
    "clb = plt.colorbar(cmap, ax=ax, orientation='horizontal', shrink=1, label='Average RMSE (m/s)')\n",
    "\n",
    "clb.set_ticks(np.arange(0, np.nanmax(gridded_rmse)+1, 1.0))\n",
    "clb.ax.tick_params(labelsize=8)\n",
    "\n",
    "gl.xlabel_style = {'size': 8, 'color': 'black'}\n",
    "gl.ylabel_style = {'size': 8, 'color': 'black'}\n",
    "\n",
    "plt.show()"
   ]
  },
  {
   "cell_type": "code",
   "execution_count": null,
   "id": "937f9d18-12fa-436a-baea-f92af46d5e87",
   "metadata": {},
   "outputs": [],
   "source": []
  }
 ],
 "metadata": {
  "kernelspec": {
   "display_name": "CyGNSS Deployment",
   "language": "python",
   "name": "cygnss-d"
  },
  "language_info": {
   "codemirror_mode": {
    "name": "ipython",
    "version": 3
   },
   "file_extension": ".py",
   "mimetype": "text/x-python",
   "name": "python",
   "nbconvert_exporter": "python",
   "pygments_lexer": "ipython3",
   "version": "3.9.13"
  }
 },
 "nbformat": 4,
 "nbformat_minor": 5
}
