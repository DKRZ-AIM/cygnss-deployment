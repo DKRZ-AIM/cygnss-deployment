{
 "cells": [
  {
   "cell_type": "markdown",
   "id": "261e2e39-ae3e-4b92-8dc5-b163f61eea25",
   "metadata": {},
   "source": [
    "# Preprocessing CyGNSS data\n",
    "\n",
    "Data is downloaded from NASA EarthCloud as described in the `APIs` notebook. For the expected format for CyGNSSnet, additional preprocessing steps are necessary."
   ]
  },
  {
   "cell_type": "code",
   "execution_count": null,
   "id": "084a2e3e-9f9f-4844-9e28-c60e30314494",
   "metadata": {},
   "outputs": [],
   "source": [
    "import os\n",
    "import sys\n",
    "sys.path.append('../externals/gfz_cygnss/')"
   ]
  },
  {
   "cell_type": "code",
   "execution_count": null,
   "id": "c0bbb084-5e0b-41a9-a337-684f832d6f85",
   "metadata": {},
   "outputs": [],
   "source": [
    "from gfz_202003.preprocessing import preprocess as prep"
   ]
  },
  {
   "cell_type": "code",
   "execution_count": null,
   "id": "39eac3de-096b-4b73-8491-232d3e0667b0",
   "metadata": {},
   "outputs": [],
   "source": [
    "import numpy as np\n",
    "import h5py\n",
    "from matplotlib import pyplot as plt\n",
    "import seaborn as sns\n",
    "\n",
    "import datetime\n",
    "import xarray as xr\n",
    "\n",
    "import argparse"
   ]
  },
  {
   "cell_type": "code",
   "execution_count": null,
   "id": "3cad0fa3-0ba5-4b35-ba86-29f7bee68e71",
   "metadata": {},
   "outputs": [],
   "source": [
    "import cdsapi"
   ]
  },
  {
   "cell_type": "markdown",
   "id": "7c8c7e2a-ea30-499e-a259-73aae365be5d",
   "metadata": {},
   "source": [
    "## Download raw CyGNSS data\n",
    "\n",
    "The CyGNSSnet preprocessing routine expects the raw data files ordered as \n",
    "\n",
    "> `$raw_data_dir/<year>/<day-of-year>/cyg*.nc`\n",
    "\n",
    "Data is always downloaded for one full day for all spacecraft, generating 8 `netcdf` files per day of observations. Below is a routine to specify a date range, followed by downloading the corresponding data and storing it in the appropriate subfolders."
   ]
  },
  {
   "cell_type": "code",
   "execution_count": null,
   "id": "efcfbe84-843d-4550-b22f-fbfaad434694",
   "metadata": {},
   "outputs": [],
   "source": [
    "raw_data_root = '/work/ka1176/shared_data/2022-cygnss-deployment/raw_data/'\n",
    "dev_data_root = '/work/ka1176/shared_data/2022-cygnss-deployment/dev_data/'"
   ]
  },
  {
   "cell_type": "markdown",
   "id": "2fdc36c1-d1e1-4bab-8a04-a91f8759637f",
   "metadata": {},
   "source": [
    "Select a test day and prepared the input parameters for the provided download script"
   ]
  },
  {
   "cell_type": "code",
   "execution_count": null,
   "id": "f47387cf-999d-44a5-9c15-8cf2c7886e07",
   "metadata": {},
   "outputs": [],
   "source": [
    "year  = 2021\n",
    "month = 3\n",
    "day   = 17"
   ]
  },
  {
   "cell_type": "markdown",
   "id": "871eddb6-6022-4273-8dba-93c911f78598",
   "metadata": {},
   "source": [
    "Downloaded target directory in the expected format `year/day-of-year`"
   ]
  },
  {
   "cell_type": "code",
   "execution_count": null,
   "id": "84e34efb-f067-4964-89cb-f6ccb556e681",
   "metadata": {},
   "outputs": [],
   "source": [
    "raw_data_sub = datetime.datetime.strptime(f\"{year}-{month}-{day}\", \"%Y-%m-%d\").strftime(\"%Y/%j\")\n",
    "\n",
    "raw_data_dir = os.path.join(raw_data_root, raw_data_sub)\n",
    "\n",
    "print(raw_data_dir)"
   ]
  },
  {
   "cell_type": "markdown",
   "id": "cad54be9-afc6-43b9-a841-2bfefddc81f5",
   "metadata": {},
   "source": [
    "Start and end date of download range in the required format. The end date is midnight the next day, this way only the requested day's data is downloaded."
   ]
  },
  {
   "cell_type": "code",
   "execution_count": null,
   "id": "e7da91cd-1c9b-479d-91a2-3598b58765ac",
   "metadata": {},
   "outputs": [],
   "source": [
    "start_date = datetime.datetime(year, month, day).strftime(\"%Y-%m-%dT%H:%M:%SZ\")\n",
    "end_date   = datetime.datetime(year, month, day + 1).strftime(\"%Y-%m-%dT%H:%M:%SZ\")\n",
    "\n",
    "print(f'--start-date {start_date}')\n",
    "print(f'--end-date   {end_date}')"
   ]
  },
  {
   "cell_type": "code",
   "execution_count": null,
   "id": "15055733-3e11-4bd5-9402-e721be9aba0c",
   "metadata": {},
   "outputs": [],
   "source": [
    "dday = datetime.datetime.strptime(f\"{year}-{month}-{day}\", \"%Y-%m-%d\").strftime(\"%j\") # need that later\n",
    "dday"
   ]
  },
  {
   "cell_type": "code",
   "execution_count": null,
   "id": "99c1420e-e2c3-4c68-a53e-0b98e94d3a45",
   "metadata": {},
   "outputs": [],
   "source": [
    "%env PYTHONPATH=/work/ka1176/caroline/gitlab/data-subscriber\n",
    "!python /work/ka1176/caroline/gitlab/data-subscriber/subscriber/podaac_data_downloader.py  -c CYGNSS_L1_V3.1 -d $raw_data_dir --start-date $start_date --end-date $end_date"
   ]
  },
  {
   "cell_type": "markdown",
   "id": "520bceeb-7e10-4802-96c7-96995aa933e2",
   "metadata": {},
   "source": [
    "## Download raw ERA5 data\n",
    "\n",
    "The preprocessing pipeline requires the ERA5 windspeed labels. Download the raw ERA5 data for the same timespan."
   ]
  },
  {
   "cell_type": "code",
   "execution_count": null,
   "id": "d2511baa-ade0-43bf-8e9b-953251c164fe",
   "metadata": {},
   "outputs": [],
   "source": [
    "era5_data = os.path.join(raw_data_dir, 'ERA5_windspeed.nc')"
   ]
  },
  {
   "cell_type": "code",
   "execution_count": null,
   "id": "b8e06265-ffa4-4b9c-a5de-b8c9151a9387",
   "metadata": {},
   "outputs": [],
   "source": [
    "cds = cdsapi.Client()"
   ]
  },
  {
   "cell_type": "code",
   "execution_count": null,
   "id": "3c9e2d27-609c-454b-8131-10427c89ab9d",
   "metadata": {},
   "outputs": [],
   "source": [
    "cds.retrieve(\n",
    "    'reanalysis-era5-single-levels',\n",
    "    {\n",
    "        'product_type': 'reanalysis',\n",
    "        'format': 'netcdf',\n",
    "        'variable': [\n",
    "            '10m_u_component_of_wind', '10m_v_component_of_wind',\n",
    "        ],\n",
    "        'year': year,\n",
    "        'month': month,\n",
    "        'day': day,\n",
    "        'time': [\n",
    "            '00:00', '01:00', '02:00',\n",
    "            '03:00', '04:00', '05:00',\n",
    "            '06:00', '07:00', '08:00',\n",
    "            '09:00', '10:00', '11:00',\n",
    "            '12:00', '13:00', '14:00',\n",
    "            '15:00', '16:00', '17:00',\n",
    "            '18:00', '19:00', '20:00',\n",
    "            '21:00', '22:00', '23:00'\n",
    "        ],\n",
    "        'area': [\n",
    "            40, -180, -40, 180,\n",
    "        ],\n",
    "    },\n",
    "    era5_data)"
   ]
  },
  {
   "cell_type": "code",
   "execution_count": null,
   "id": "4df67e88-6fd4-48f9-8a2c-921d51fe1c13",
   "metadata": {},
   "outputs": [],
   "source": [
    "era5_ds = xr.open_dataset(era5_data)\n",
    "era5_ds"
   ]
  },
  {
   "cell_type": "markdown",
   "id": "c958a80b-5845-4a98-8372-1fdc03954a00",
   "metadata": {},
   "source": [
    "## Annotate raw CyGNSS data with windspeed labels"
   ]
  },
  {
   "cell_type": "markdown",
   "id": "ac2b8784-afcd-48ce-9e09-a6b245ae6132",
   "metadata": {},
   "source": [
    "We need to create the data variables `ERA5_u10` and `ERA5_v10` and attach them to the CyGNSS raw data."
   ]
  },
  {
   "cell_type": "code",
   "execution_count": null,
   "id": "ca049baa-b554-40f1-9269-27469c614a76",
   "metadata": {},
   "outputs": [],
   "source": [
    "os.listdir(raw_data_dir)"
   ]
  },
  {
   "cell_type": "markdown",
   "id": "50a4f34c-1a20-4580-9721-6838de1626a7",
   "metadata": {},
   "source": [
    "Check units for spacetime coordinates\n",
    "* Longitude\n",
    "  * ERA5:   -180 ... 0 ... +180\n",
    "  * CyGNSS: 0 ... 180 ... 360\n",
    "* Latitude\n",
    "  * ERA5 & CyGNSS: -40 ... 0 ... +40\n",
    "* Timestamp\n",
    "\n",
    "\n",
    "--> Need to shift the ERA5 longitude coordinate by 180"
   ]
  },
  {
   "cell_type": "code",
   "execution_count": null,
   "id": "96ecbfa9-4a93-4821-b65c-05fc8697f8d5",
   "metadata": {},
   "outputs": [],
   "source": [
    "def annotate_dataset(cygnss_file, era5_file, save_dataset=False):\n",
    "    '''\n",
    "    Annotate a given CyGNSS dataset with ERA5 windspeed labels and save to disk\n",
    "    \n",
    "    Parameters:\n",
    "    cygnss_file : path to CyGNSS dataset\n",
    "    era5_file   : path to orresponding ERA5 dataset\n",
    "    save_dataset : if True, save dataset to disk overwriting cygnss_file (default: False)\n",
    "    \n",
    "    Returns:\n",
    "    Annotated CyGNSS dataset\n",
    "    '''\n",
    "    \n",
    "    # necessary because lazy loading prohibits overwriting the netcdf files at the end of this section\n",
    "    with xr.open_dataset(cygnss_file) as data:\n",
    "        cygnss_ds = data.load()\n",
    "        \n",
    "    with xr.open_dataset(era5_file) as data:\n",
    "        era5_ds = data.load()\n",
    "        \n",
    "    # needs to be shifted by 180 for compatibility with CyGNSS\n",
    "    era5_ds = era5_ds.assign_coords(longitude=era5_ds.coords['longitude'] + 180)\n",
    "    \n",
    "    interp_ds = era5_ds.interp(longitude=cygnss_ds.sp_lon, latitude=cygnss_ds.sp_lat, time=cygnss_ds.ddm_timestamp_utc)\n",
    "    \n",
    "    cygnss_ds['ERA5_u10'] = interp_ds['u10']\n",
    "    cygnss_ds['ERA5_v10'] = interp_ds['v10']\n",
    "\n",
    "    tmp_attrs = cygnss_ds['ERA5_u10'].attrs\n",
    "    tmp_attrs['long_name'] = cygnss_ds['ERA5_u10'].long_name + ' (interpolated)'\n",
    "    cygnss_ds['ERA5_u10'].attrs = tmp_attrs\n",
    "\n",
    "    tmp_attrs = cygnss_ds['ERA5_v10'].attrs\n",
    "    tmp_attrs['long_name'] = cygnss_ds['ERA5_v10'].long_name + ' (interpolated)'\n",
    "    cygnss_ds['ERA5_v10'].attrs = tmp_attrs\n",
    "    \n",
    "    cygnss_ds = cygnss_ds.drop_vars(['longitude', 'latitude', 'time'])\n",
    "    \n",
    "    # dummy values only for preprocessing routine\n",
    "    cygnss_ds['GPM_precipitation'] = -9999\n",
    "    cygnss_ds['ERA5_mdts'] = -9999\n",
    "    cygnss_ds['ERA5_mdww'] = -9999\n",
    "    cygnss_ds['ERA5_swh'] = -9999\n",
    "    cygnss_ds['ERA5_shts'] = -9999\n",
    "    cygnss_ds['ERA5_shww'] = -9999\n",
    "    cygnss_ds['ERA5_p140121'] = -9999\n",
    "    cygnss_ds['ERA5_p140124'] = -9999\n",
    "    cygnss_ds['ERA5_p140127'] = -9999\n",
    "    \n",
    "    if save_dataset:\n",
    "        cygnss_ds.to_netcdf(cygnss_file)\n",
    "        \n",
    "    return cygnss_ds"
   ]
  },
  {
   "cell_type": "code",
   "execution_count": null,
   "id": "3e15d7b1-9d6d-4e1a-9ba6-ea28b9943f28",
   "metadata": {},
   "outputs": [],
   "source": [
    "for cygnss_file in os.listdir(raw_data_dir):\n",
    "    if cygnss_file.startswith('cyg') and cygnss_file.endswith('.nc'):\n",
    "        print(cygnss_file)\n",
    "        annotate_dataset(os.path.join(raw_data_dir, cygnss_file), era5_data, save_dataset=True)"
   ]
  },
  {
   "cell_type": "markdown",
   "id": "41fa8522-6306-45f9-ad34-609a30995765",
   "metadata": {},
   "source": [
    "## Check raw data"
   ]
  },
  {
   "cell_type": "code",
   "execution_count": null,
   "id": "d099d73c-53e5-4939-bf93-99105225a0e7",
   "metadata": {},
   "outputs": [],
   "source": [
    "from importlib import reload\n",
    "reload(prep)\n",
    "raw_ds = prep.open_mfdataset(os.path.join(raw_data_dir, cygnss_file))\n",
    "\n",
    "raw_ds"
   ]
  },
  {
   "cell_type": "code",
   "execution_count": null,
   "id": "b4b7fbce-05e4-418f-bf29-a294846947d0",
   "metadata": {},
   "outputs": [],
   "source": [
    "filtered_ds = prep.apply_quality_filter(raw_ds, is_ml_ops=True)\n",
    "filtered_ds"
   ]
  },
  {
   "cell_type": "code",
   "execution_count": null,
   "id": "66d21d51-a157-4823-98bc-9160b19627a8",
   "metadata": {},
   "outputs": [],
   "source": [
    "os.listdir('/work/ka1176/shared_data/2020-03/raw_data/2021/014/')"
   ]
  },
  {
   "cell_type": "code",
   "execution_count": null,
   "id": "c05f455c-a047-49ac-8169-6eee7f0ee38e",
   "metadata": {},
   "outputs": [],
   "source": [
    "bu = raw_ds['ddm_brcs_uncert']\n",
    "qf = raw_ds['quality_flags']\n",
    "st = raw_ds['nst_att_status']\n",
    "fom = raw_ds['prn_fig_of_merit']\n",
    "les = raw_ds['ddm_les']\n",
    "rxg = raw_ds['sp_rx_gain']\n",
    "nsca = raw_ds['nbrcs_scatter_area']\n",
    "lsca = raw_ds['les_scatter_area']\n",
    "lat = raw_ds['sp_lat']\n",
    "lon = raw_ds['sp_lon']\n",
    "ws = raw_ds['windspeed']"
   ]
  },
  {
   "cell_type": "markdown",
   "id": "1cb9d80b-5400-4a2c-878b-624fe05040b9",
   "metadata": {},
   "source": [
    "For now, use only the quality flag == 4"
   ]
  },
  {
   "cell_type": "code",
   "execution_count": null,
   "id": "289ceac1-d478-4276-868b-9f246c8222c2",
   "metadata": {},
   "outputs": [],
   "source": [
    "quality = (bu<1) & (qf == 4) & (st == 0) & (fom > 3) & (rxg > 0) & (les >= 0)"
   ]
  },
  {
   "cell_type": "code",
   "execution_count": null,
   "id": "8f472924-fcb5-4639-8609-cda8b4fb4a51",
   "metadata": {},
   "outputs": [],
   "source": [
    "np.sum((bu<1) & (st==0)).compute()"
   ]
  },
  {
   "cell_type": "markdown",
   "id": "fb390261-935f-4573-87f8-50b926f873a0",
   "metadata": {},
   "source": [
    "## Created processed data"
   ]
  },
  {
   "cell_type": "code",
   "execution_count": null,
   "id": "5e078c5c-068a-43e5-b1dc-23806c0226e5",
   "metadata": {},
   "outputs": [],
   "source": [
    "raw_ds = prep.open_mfdataset(os.path.join(raw_data_dir, 'cyg06*.nc'), channels=[0,1,2,3])"
   ]
  },
  {
   "cell_type": "code",
   "execution_count": null,
   "id": "1bbd55a2-ac14-4dbb-8aa5-9c64c64ebbd1",
   "metadata": {},
   "outputs": [],
   "source": [
    "dev_data_dir = '/work/ka1176/shared_data/2022-cygnss-deployment/dev_data/'"
   ]
  },
  {
   "cell_type": "code",
   "execution_count": null,
   "id": "3fef8930-282e-4751-8678-18db21ee13f9",
   "metadata": {},
   "outputs": [],
   "source": [
    "for ff in os.listdir('/work/ka1176/shared_data/2022-cygnss-deployment/raw_data/2021/168/'):\n",
    "    tmp = xr.open_dataset(os.path.join('/work/ka1176/shared_data/2022-cygnss-deployment/raw_data/2021/168/', ff))\n",
    "    if not 'ERA5_u10' in tmp.keys():\n",
    "        print(ff)"
   ]
  },
  {
   "cell_type": "code",
   "execution_count": null,
   "id": "93ebd942-72d9-4344-8496-329f8a9c73c9",
   "metadata": {},
   "outputs": [],
   "source": [
    "tmp"
   ]
  },
  {
   "cell_type": "code",
   "execution_count": null,
   "id": "c24d957d-2db5-4fd4-a88d-e18a53457384",
   "metadata": {},
   "outputs": [],
   "source": [
    "reload(prep)\n",
    "args = argparse.Namespace(raw_data_dir='/work/ka1176/shared_data/2022-cygnss-deployment/raw_data/',\n",
    "                          output_dir=dev_data_dir,\n",
    "                          v_map=['brcs'],\n",
    "                          n_valid_days=0,\n",
    "                          n_test_days=1,\n",
    "                          n_processes=1,\n",
    "                          only_merge=False,\n",
    "                          use_land_data=False,\n",
    "                          is_ml_ops=True,\n",
    "                          version='v3.1',\n",
    "                          day=dday,\n",
    "                          year=year,\n",
    "                          reduce_mode='')\n",
    "\n",
    "prep.generate_input_data(args)"
   ]
  },
  {
   "cell_type": "markdown",
   "id": "7ec9da62-5cd7-4f1d-b4eb-a11367748f5d",
   "metadata": {},
   "source": [
    "## Check the new CyGNSS data v3.1"
   ]
  },
  {
   "cell_type": "code",
   "execution_count": null,
   "id": "f6e400c4-a661-409e-8add-19734e6e954c",
   "metadata": {},
   "outputs": [],
   "source": [
    "TODO annotate the samples with date (year month day etc)"
   ]
  },
  {
   "cell_type": "code",
   "execution_count": null,
   "id": "11d01ad2-7a19-458d-817d-efadea14d643",
   "metadata": {},
   "outputs": [],
   "source": [
    "!conda list env"
   ]
  },
  {
   "cell_type": "code",
   "execution_count": null,
   "id": "00e4867b-2e29-4967-a193-ef2356a151f0",
   "metadata": {},
   "outputs": [],
   "source": []
  },
  {
   "cell_type": "code",
   "execution_count": null,
   "id": "3ebc77ff-5f86-4962-a058-9fc359cf5b3f",
   "metadata": {},
   "outputs": [],
   "source": []
  }
 ],
 "metadata": {
  "kernelspec": {
   "display_name": "CyGNSS Deployment",
   "language": "python",
   "name": "cygnss-d"
  },
  "language_info": {
   "codemirror_mode": {
    "name": "ipython",
    "version": 3
   },
   "file_extension": ".py",
   "mimetype": "text/x-python",
   "name": "python",
   "nbconvert_exporter": "python",
   "pygments_lexer": "ipython3",
   "version": "3.9.13"
  }
 },
 "nbformat": 4,
 "nbformat_minor": 5
}
