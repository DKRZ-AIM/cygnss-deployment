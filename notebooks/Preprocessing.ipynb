{
 "cells": [
  {
   "cell_type": "markdown",
   "id": "261e2e39-ae3e-4b92-8dc5-b163f61eea25",
   "metadata": {},
   "source": [
    "# Preprocessing CyGNSS data\n",
    "\n",
    "Data is downloaded from NASA EarthCloud as described in the `APIs` notebook. For the expected format for CyGNSSnet, additional preprocessing steps are necessary."
   ]
  },
  {
   "cell_type": "code",
   "execution_count": null,
   "id": "084a2e3e-9f9f-4844-9e28-c60e30314494",
   "metadata": {},
   "outputs": [],
   "source": [
    "import os\n",
    "import sys\n",
    "sys.path.append('/work/ka1176/caroline/gitlab/2020-03-gfz-remote-sensing/')"
   ]
  },
  {
   "cell_type": "code",
   "execution_count": null,
   "id": "c0bbb084-5e0b-41a9-a337-684f832d6f85",
   "metadata": {},
   "outputs": [],
   "source": [
    "from gfz_202003.preprocessing import preprocess as prep"
   ]
  },
  {
   "cell_type": "code",
   "execution_count": null,
   "id": "39eac3de-096b-4b73-8491-232d3e0667b0",
   "metadata": {},
   "outputs": [],
   "source": [
    "import numpy as np\n",
    "import h5py\n",
    "from matplotlib import pyplot as plt\n",
    "import seaborn as sns\n",
    "\n",
    "import datetime\n",
    "import xarray as xr"
   ]
  },
  {
   "cell_type": "code",
   "execution_count": null,
   "id": "3cad0fa3-0ba5-4b35-ba86-29f7bee68e71",
   "metadata": {},
   "outputs": [],
   "source": [
    "import cdsapi"
   ]
  },
  {
   "cell_type": "markdown",
   "id": "7c8c7e2a-ea30-499e-a259-73aae365be5d",
   "metadata": {},
   "source": [
    "## Download raw CyGNSS data\n",
    "\n",
    "The CyGNSSnet preprocessing routine expects the raw data files ordered as \n",
    "\n",
    "> `$raw_data_dir/<year>/<day-of-year>/cyg*.nc`\n",
    "\n",
    "Data is always downloaded for one full day for all spacecraft, generating 8 `netcdf` files per day of observations. Below is a routine to specify a date range, followed by downloading the corresponding data and storing it in the appropriate subfolders."
   ]
  },
  {
   "cell_type": "code",
   "execution_count": null,
   "id": "efcfbe84-843d-4550-b22f-fbfaad434694",
   "metadata": {},
   "outputs": [],
   "source": [
    "raw_data_root = '/work/ka1176/shared_data/2022-cygnss-deployment/raw_data/'\n",
    "dev_data_root = '/work/ka1176/shared_data/2022-cygnss-deployment/dev_data/'"
   ]
  },
  {
   "cell_type": "markdown",
   "id": "2fdc36c1-d1e1-4bab-8a04-a91f8759637f",
   "metadata": {},
   "source": [
    "Select a test day and prepared the input parameters for the provided download script"
   ]
  },
  {
   "cell_type": "code",
   "execution_count": null,
   "id": "f47387cf-999d-44a5-9c15-8cf2c7886e07",
   "metadata": {},
   "outputs": [],
   "source": [
    "year  = 2021\n",
    "month = 6\n",
    "day   = 17"
   ]
  },
  {
   "cell_type": "markdown",
   "id": "871eddb6-6022-4273-8dba-93c911f78598",
   "metadata": {},
   "source": [
    "Downloaded target directory in the expected format `year/day-of-year`"
   ]
  },
  {
   "cell_type": "code",
   "execution_count": null,
   "id": "84e34efb-f067-4964-89cb-f6ccb556e681",
   "metadata": {},
   "outputs": [],
   "source": [
    "raw_data_sub = datetime.datetime.strptime(f\"{year}-{month}-{day}\", \"%Y-%m-%d\").strftime(\"%Y/%j\")\n",
    "\n",
    "raw_data_dir = os.path.join(raw_data_root, raw_data_sub)\n",
    "\n",
    "print(raw_data_dir)"
   ]
  },
  {
   "cell_type": "markdown",
   "id": "cad54be9-afc6-43b9-a841-2bfefddc81f5",
   "metadata": {},
   "source": [
    "Start and end date of download range in the required format. The end date is midnight the next day, this way only the requested day's data is downloaded."
   ]
  },
  {
   "cell_type": "code",
   "execution_count": null,
   "id": "e7da91cd-1c9b-479d-91a2-3598b58765ac",
   "metadata": {},
   "outputs": [],
   "source": [
    "start_date = datetime.datetime(year, month, day).strftime(\"%Y-%m-%dT%H:%M:%SZ\")\n",
    "end_date   = datetime.datetime(year, month, day + 1).strftime(\"%Y-%m-%dT%H:%M:%SZ\")\n",
    "\n",
    "print(f'--start-date {start_date}')\n",
    "print(f'--end-date   {end_date}')"
   ]
  },
  {
   "cell_type": "code",
   "execution_count": null,
   "id": "99c1420e-e2c3-4c68-a53e-0b98e94d3a45",
   "metadata": {},
   "outputs": [],
   "source": [
    "%env PYTHONPATH=/work/ka1176/caroline/gitlab/data-subscriber\n",
    "!python /work/ka1176/caroline/gitlab/data-subscriber/subscriber/podaac_data_downloader.py  -c CYGNSS_L1_V3.1 -d $raw_data_dir --start-date $start_date --end-date $end_date"
   ]
  },
  {
   "cell_type": "markdown",
   "id": "520bceeb-7e10-4802-96c7-96995aa933e2",
   "metadata": {},
   "source": [
    "## Download raw ERA5 data\n",
    "\n",
    "The preprocessing pipeline requires the ERA5 windspeed labels. Download the raw ERA5 data for the same timespan."
   ]
  },
  {
   "cell_type": "code",
   "execution_count": null,
   "id": "d2511baa-ade0-43bf-8e9b-953251c164fe",
   "metadata": {},
   "outputs": [],
   "source": [
    "era5_data = os.path.join(raw_data_dir, 'ERA5_windspeed.nc')"
   ]
  },
  {
   "cell_type": "code",
   "execution_count": null,
   "id": "b8e06265-ffa4-4b9c-a5de-b8c9151a9387",
   "metadata": {},
   "outputs": [],
   "source": [
    "cds = cdsapi.Client()"
   ]
  },
  {
   "cell_type": "code",
   "execution_count": null,
   "id": "3c9e2d27-609c-454b-8131-10427c89ab9d",
   "metadata": {},
   "outputs": [],
   "source": [
    "cds.retrieve(\n",
    "    'reanalysis-era5-single-levels',\n",
    "    {\n",
    "        'product_type': 'reanalysis',\n",
    "        'format': 'netcdf',\n",
    "        'variable': [\n",
    "            '10m_u_component_of_wind', '10m_v_component_of_wind',\n",
    "        ],\n",
    "        'year': year,\n",
    "        'month': month,\n",
    "        'day': day,\n",
    "        'time': [\n",
    "            '00:00', '01:00', '02:00',\n",
    "            '03:00', '04:00', '05:00',\n",
    "            '06:00', '07:00', '08:00',\n",
    "            '09:00', '10:00', '11:00',\n",
    "            '12:00', '13:00', '14:00',\n",
    "            '15:00', '16:00', '17:00',\n",
    "            '18:00', '19:00', '20:00',\n",
    "            '21:00', '22:00', '23:00'\n",
    "        ],\n",
    "        'area': [\n",
    "            40, -180, -40, 180,\n",
    "        ],\n",
    "    },\n",
    "    era5_data)"
   ]
  },
  {
   "cell_type": "code",
   "execution_count": null,
   "id": "4df67e88-6fd4-48f9-8a2c-921d51fe1c13",
   "metadata": {},
   "outputs": [],
   "source": [
    "era5_ds = xr.open_dataset(era5_data)\n",
    "era5_ds"
   ]
  },
  {
   "cell_type": "markdown",
   "id": "c958a80b-5845-4a98-8372-1fdc03954a00",
   "metadata": {},
   "source": [
    "## Annotate raw CyGNSS data with windspeed labels"
   ]
  },
  {
   "cell_type": "markdown",
   "id": "ac2b8784-afcd-48ce-9e09-a6b245ae6132",
   "metadata": {},
   "source": [
    "We need to create the data variables `ERA5_u10` and `ERA5_v10` and attach them to the CyGNSS raw data."
   ]
  },
  {
   "cell_type": "code",
   "execution_count": null,
   "id": "ca049baa-b554-40f1-9269-27469c614a76",
   "metadata": {},
   "outputs": [],
   "source": [
    "os.listdir(raw_data_dir)"
   ]
  },
  {
   "cell_type": "code",
   "execution_count": null,
   "id": "a5413d3d-7c50-4dae-be81-ee18841ba78b",
   "metadata": {},
   "outputs": [],
   "source": [
    "cygnss_file = os.path.join(raw_data_dir, 'cyg06.ddmi.s20210617-000000-e20210617-235959.l1.power-brcs.a31.d32.nc')\n",
    "\n",
    "# necessary because lazy loading prohibits overwriting the netcdf files at the end of this section\n",
    "with xr.open_dataset(cygnss_file) as data:\n",
    "    cygnss_ds = data.load()\n",
    "    \n",
    "#cygnss_ds.close() # close I/O stream\n",
    "cygnss_ds"
   ]
  },
  {
   "cell_type": "markdown",
   "id": "50a4f34c-1a20-4580-9721-6838de1626a7",
   "metadata": {},
   "source": [
    "Check units for spacetime coordinates\n",
    "* Longitude\n",
    "  * ERA5:   -180 ... 0 ... +180\n",
    "  * CyGNSS: 0 ... 180 ... 360\n",
    "* Latitude\n",
    "  * ERA5 & CyGNSS: -40 ... 0 ... +40\n",
    "* Timestamp\n",
    "\n",
    "\n",
    "--> Need to shift the ERA5 longitude coordinate by 180"
   ]
  },
  {
   "cell_type": "code",
   "execution_count": null,
   "id": "a1f13854-4a8a-4915-908a-0ce9f1ee1fc0",
   "metadata": {},
   "outputs": [],
   "source": [
    "era5_ds = era5_ds.assign_coords(longitude=era5_ds.coords['longitude'] + 180)\n",
    "era5_ds"
   ]
  },
  {
   "cell_type": "code",
   "execution_count": null,
   "id": "efdd2bc2-0422-4de4-8f88-6cb29548fe87",
   "metadata": {},
   "outputs": [],
   "source": [
    "sample_ix = 4821\n",
    "ddm_ix    = 2\n",
    "\n",
    "sample_ds = cygnss_ds.sel(sample=sample_ix, ddm=ddm_ix)\n",
    "sample_ds\n",
    "\n",
    "sample_sp_lat = sample_ds.sp_lat.values\n",
    "print(sample_sp_lat)\n",
    "\n",
    "sample_sp_lon = sample_ds.sp_lon.values\n",
    "print(sample_sp_lon)\n",
    "\n",
    "sample_ddm_timestamp_utc = sample_ds.ddm_timestamp_utc.values\n",
    "print(sample_ddm_timestamp_utc)"
   ]
  },
  {
   "cell_type": "code",
   "execution_count": null,
   "id": "349649d7-99b6-442f-a8db-2733eb24b6a3",
   "metadata": {},
   "outputs": [],
   "source": [
    "interp_ds = era5_ds.interp(longitude=cygnss_ds.sp_lon, latitude=cygnss_ds.sp_lat, time=cygnss_ds.ddm_timestamp_utc)\n",
    "interp_ds"
   ]
  },
  {
   "cell_type": "code",
   "execution_count": null,
   "id": "b9db5b17-a13c-4de3-ae61-64d61fec3e54",
   "metadata": {},
   "outputs": [],
   "source": [
    "cygnss_ds['ERA5_u10'] = interp_ds['u10']\n",
    "cygnss_ds['ERA5_v10'] = interp_ds['v10']\n",
    "\n",
    "tmp_attrs = cygnss_ds['ERA5_u10'].attrs\n",
    "tmp_attrs['long_name'] = cygnss_ds['ERA5_u10'].long_name + ' (interpolated)'\n",
    "cygnss_ds['ERA5_u10'].attrs = tmp_attrs\n",
    "\n",
    "tmp_attrs = cygnss_ds['ERA5_v10'].attrs\n",
    "tmp_attrs['long_name'] = cygnss_ds['ERA5_v10'].long_name + ' (interpolated)'\n",
    "cygnss_ds['ERA5_v10'].attrs = tmp_attrs"
   ]
  },
  {
   "cell_type": "code",
   "execution_count": null,
   "id": "c49d2653-81fe-4a4f-950c-5046e5ee7c01",
   "metadata": {},
   "outputs": [],
   "source": [
    "cygnss_ds = cygnss_ds.drop_vars(['longitude', 'latitude', 'time'])"
   ]
  },
  {
   "cell_type": "markdown",
   "id": "cdc78573-c121-4c36-a543-a12bb29c32f3",
   "metadata": {},
   "source": [
    "TODO: drop the variables that are not used later on and apply the quality filter here"
   ]
  },
  {
   "cell_type": "markdown",
   "id": "5cb79869-18f1-41d9-8c23-8c355758c904",
   "metadata": {},
   "source": [
    "Overwrite the dataset on disk"
   ]
  },
  {
   "cell_type": "code",
   "execution_count": null,
   "id": "4a6890cb-2ceb-47e1-bbb4-d63e30f361c0",
   "metadata": {},
   "outputs": [],
   "source": [
    "cygnss_ds.to_netcdf(cygnss_file)"
   ]
  },
  {
   "cell_type": "markdown",
   "id": "41fa8522-6306-45f9-ad34-609a30995765",
   "metadata": {},
   "source": [
    "## Check raw data"
   ]
  },
  {
   "cell_type": "code",
   "execution_count": null,
   "id": "d099d73c-53e5-4939-bf93-99105225a0e7",
   "metadata": {},
   "outputs": [],
   "source": [
    "from importlib import reload\n",
    "reload(prep)\n",
    "raw_ds = prep.open_mfdataset(os.path.join(raw_data_dir, cygnss_file))\n",
    "\n",
    "raw_ds"
   ]
  },
  {
   "cell_type": "code",
   "execution_count": null,
   "id": "b4b7fbce-05e4-418f-bf29-a294846947d0",
   "metadata": {},
   "outputs": [],
   "source": [
    "filtered_ds = prep.apply_quality_filter(raw_ds, is_ml_ops=True)\n",
    "filtered_ds"
   ]
  },
  {
   "cell_type": "code",
   "execution_count": null,
   "id": "66d21d51-a157-4823-98bc-9160b19627a8",
   "metadata": {},
   "outputs": [],
   "source": [
    "os.listdir('/work/ka1176/shared_data/2020-03/raw_data/2021/014/')"
   ]
  },
  {
   "cell_type": "code",
   "execution_count": null,
   "id": "5cf7c57e-195f-405b-bdb9-7c8a66756206",
   "metadata": {},
   "outputs": [],
   "source": [
    "old_raw_ds = xr.open_mfdataset('/work/ka1176/shared_data/2020-03/raw_data/2022/168/cyg06.ddmi.s20210114-000000-e20210114-235959.l1.power-brcs.a30.d31.nc')\n",
    "old_raw_ds"
   ]
  },
  {
   "cell_type": "code",
   "execution_count": null,
   "id": "c05f455c-a047-49ac-8169-6eee7f0ee38e",
   "metadata": {},
   "outputs": [],
   "source": [
    "bu = raw_ds['ddm_brcs_uncert']\n",
    "qf = raw_ds['quality_flags']\n",
    "st = raw_ds['nst_att_status']\n",
    "fom = raw_ds['prn_fig_of_merit']\n",
    "les = raw_ds['ddm_les']\n",
    "rxg = raw_ds['sp_rx_gain']\n",
    "nsca = raw_ds['nbrcs_scatter_area']\n",
    "lsca = raw_ds['les_scatter_area']\n",
    "lat = raw_ds['sp_lat']\n",
    "lon = raw_ds['sp_lon']\n",
    "ws = raw_ds['windspeed']"
   ]
  },
  {
   "cell_type": "markdown",
   "id": "1cb9d80b-5400-4a2c-878b-624fe05040b9",
   "metadata": {},
   "source": [
    "TODO issue with the quality flag"
   ]
  },
  {
   "cell_type": "code",
   "execution_count": null,
   "id": "289ceac1-d478-4276-868b-9f246c8222c2",
   "metadata": {},
   "outputs": [],
   "source": [
    "quality = (bu<1) & (qf == 4) & (st == 0) & (fom > 3) & (rxg > 0) & (les >= 0)"
   ]
  },
  {
   "cell_type": "code",
   "execution_count": null,
   "id": "8f472924-fcb5-4639-8609-cda8b4fb4a51",
   "metadata": {},
   "outputs": [],
   "source": [
    "np.sum((bu<1) & (st==0)).compute()"
   ]
  },
  {
   "cell_type": "markdown",
   "id": "fb390261-935f-4573-87f8-50b926f873a0",
   "metadata": {},
   "source": [
    "## Created processed data"
   ]
  },
  {
   "cell_type": "code",
   "execution_count": null,
   "id": "5e078c5c-068a-43e5-b1dc-23806c0226e5",
   "metadata": {},
   "outputs": [],
   "source": [
    "raw_files = prep.open_mfdataset(os.path.join(raw_data_dir, '*.nc'), channels=[0,1,2,3])"
   ]
  },
  {
   "cell_type": "code",
   "execution_count": null,
   "id": "bd4f7f75-65a2-41d8-ad73-dc827c12557a",
   "metadata": {},
   "outputs": [],
   "source": [
    "raw_ds = xr.open_mfdataset(os.path.join(raw_data_dir, '*.nc'), engine=\"netcdf4\")\n",
    "\n",
    "raw_ds"
   ]
  },
  {
   "cell_type": "code",
   "execution_count": null,
   "id": "c59873a9-d788-4e29-9053-c8b9fce1d26e",
   "metadata": {},
   "outputs": [],
   "source": [
    "raw_ds = xr.open_mfdataset([os.path.join(raw_data_dir, dd) for dd in os.listdir(raw_data_dir) if dd.endswith('.nc')])"
   ]
  },
  {
   "cell_type": "markdown",
   "id": "7ec9da62-5cd7-4f1d-b4eb-a11367748f5d",
   "metadata": {},
   "source": [
    "## Check the new CyGNSS data v3.1"
   ]
  },
  {
   "cell_type": "code",
   "execution_count": null,
   "id": "db5dfb4c-c689-4fdf-837c-f5629b9d83e9",
   "metadata": {},
   "outputs": [],
   "source": [
    "cygnss_ds"
   ]
  },
  {
   "cell_type": "code",
   "execution_count": null,
   "id": "5a5b15a2-dade-458b-95bc-e67a27e9ac26",
   "metadata": {},
   "outputs": [],
   "source": [
    "qf = cygnss_ds.quality_flags[:100].values"
   ]
  },
  {
   "cell_type": "code",
   "execution_count": null,
   "id": "c5370bdc-6b3e-484f-8464-371b9be3e26b",
   "metadata": {},
   "outputs": [],
   "source": [
    "qf == 4"
   ]
  },
  {
   "cell_type": "code",
   "execution_count": null,
   "id": "0655d852-1cb1-49f0-8aed-23aa346d268a",
   "metadata": {},
   "outputs": [],
   "source": [
    "bu = cygnss_ds.ddm_brcs_uncert[:100].values"
   ]
  },
  {
   "cell_type": "code",
   "execution_count": null,
   "id": "5b90faa3-0e74-43d7-a0ec-85de277f2184",
   "metadata": {},
   "outputs": [],
   "source": [
    "cygnss_ds.ddm_brcs_uncert"
   ]
  },
  {
   "cell_type": "code",
   "execution_count": null,
   "id": "67603c40-e291-4446-bbc0-a0a10d6d1aba",
   "metadata": {},
   "outputs": [],
   "source": [
    "brcs = cygnss_ds.brcs[1].values"
   ]
  },
  {
   "cell_type": "code",
   "execution_count": null,
   "id": "ee4b9dc5-298c-4ba7-8d35-c18a9b6e510e",
   "metadata": {},
   "outputs": [],
   "source": [
    "np.sum(brcs, axis=(1,2))"
   ]
  },
  {
   "cell_type": "code",
   "execution_count": null,
   "id": "88d3aa07-8ace-4882-8b15-14b2ee88dca5",
   "metadata": {},
   "outputs": [],
   "source": [
    "cygnss_ds.quality_flags[1].values"
   ]
  },
  {
   "cell_type": "code",
   "execution_count": null,
   "id": "a04af6b3-44c9-4a95-b5b0-5b0c9c42fda6",
   "metadata": {},
   "outputs": [],
   "source": [
    "plt.imshow(raw_ds.brcs[0].values)\n",
    "plt.show()\n",
    "print(raw_ds.windspeed[0].values)"
   ]
  },
  {
   "cell_type": "code",
   "execution_count": null,
   "id": "f6e400c4-a661-409e-8add-19734e6e954c",
   "metadata": {},
   "outputs": [],
   "source": []
  }
 ],
 "metadata": {
  "kernelspec": {
   "display_name": "iconml",
   "language": "python",
   "name": "iconml"
  },
  "language_info": {
   "codemirror_mode": {
    "name": "ipython",
    "version": 3
   },
   "file_extension": ".py",
   "mimetype": "text/x-python",
   "name": "python",
   "nbconvert_exporter": "python",
   "pygments_lexer": "ipython3",
   "version": "3.9.12"
  }
 },
 "nbformat": 4,
 "nbformat_minor": 5
}
